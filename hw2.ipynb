{
 "cells": [
  {
   "cell_type": "code",
   "execution_count": 3,
   "id": "1e9677d5",
   "metadata": {},
   "outputs": [
    {
     "name": "stdout",
     "output_type": "stream",
     "text": [
      "Perimeter of the rectangle: 18\n",
      "Area of the rectangle: 18\n"
     ]
    }
   ],
   "source": [
    "while True:   \n",
    "    a = int(input(\"Enter length of the rectangle: \"))\n",
    "    b = int(input(\"Enter width of the rectangle: \"))\n",
    "\n",
    "    if a <= 0 or b <= 0:\n",
    "        print(\"Length and width must be positive numbers.\")\n",
    "        continue\n",
    "\n",
    "    if a < b: \n",
    "        print(\"The length must be larger than the width.\")\n",
    "        continue\n",
    "\n",
    "    p = 2 * (a + b)\n",
    "    s = a * b\n",
    "    \n",
    "    print(\"Perimeter of the rectangle:\", p)\n",
    "    print(\"Area of the rectangle:\", s)\n",
    "    break\n",
    "\n"
   ]
  },
  {
   "cell_type": "code",
   "execution_count": null,
   "id": "bef91863",
   "metadata": {},
   "outputs": [
    {
     "name": "stdout",
     "output_type": "stream",
     "text": [
      "Circumference of the circle: 25.132741228718345\n",
      "Area of the circle: 50.26548245743669\n"
     ]
    }
   ],
   "source": [
    "import math\n",
    "while True:\n",
    "    r = float(input(\"Enter the radius of the circle: \"))\n",
    "    if r <= 0:\n",
    "        print(\"The radius must be a positive number.\")\n",
    "        continue\n",
    "    p = 2 * math.pi * r\n",
    "    s = math.pi * (r ** 2)\n",
    "\n",
    "    print(\"Circumference of the circle:\", p)\n",
    "    print(\"Area of the circle:\", s)\n",
    "    break"
   ]
  },
  {
   "cell_type": "code",
   "execution_count": null,
   "id": "176c92f7",
   "metadata": {},
   "outputs": [
    {
     "name": "stdout",
     "output_type": "stream",
     "text": [
      "Khong la ba canh cua mot tam giac.\n"
     ]
    }
   ],
   "source": [
    "import math\n",
    "\n",
    "a, b, c = sorted(map(int, input(\"Enter three numbers: \").split()))\n",
    "\n",
    "if a + b > c:\n",
    "    print(f\"{a}, {b}, {c}, la ba canh cua mot tam giac.\")\n",
    "\n",
    "    if a == b and a == c and b == c:\n",
    "        print(\"Day la mot tam giac deu\")\n",
    "    elif a == b or b == c or a == c:\n",
    "        print(\"Day la mot tam giac can\")\n",
    "    elif a*a + b*b == c*c:\n",
    "        print(\"Đây là tam giác vuông\")\n",
    "    else:\n",
    "        print(\"Đây là tam giác thường\")\n",
    "    \n",
    "    p = a + b + c\n",
    "    s = p / 2\n",
    "    area = math.sqrt(s * (s - a) * (s - b) * (s - c))\n",
    "    print(\"Chu vi:\", p)\n",
    "    print(\"Diện tích:\", round(area, 2))\n",
    "else:\n",
    "    print(\"Khong la ba canh cua mot tam giac.\")"
   ]
  },
  {
   "cell_type": "code",
   "execution_count": 5,
   "id": "8bd34cc8",
   "metadata": {},
   "outputs": [
    {
     "name": "stdout",
     "output_type": "stream",
     "text": [
      "Nghiệm của phương trình là: 1.67\n"
     ]
    }
   ],
   "source": [
    "#4\n",
    "a = float(input(\"Enter a: \"))\n",
    "b = float(input(\"Enter b: \"))\n",
    "\n",
    "if a == 0:\n",
    "    if b == 0:\n",
    "        print(\"Phương trình có vô số nghiệm.\")\n",
    "    else:\n",
    "        print(\"Phương trình vô nghiệm.\")\n",
    "else:\n",
    "    x = -b / a\n",
    "    print(f\"Nghiệm của phương trình là: {x:.2f}\")\n"
   ]
  },
  {
   "cell_type": "code",
   "execution_count": null,
   "id": "821a6efe",
   "metadata": {},
   "outputs": [],
   "source": [
    "#5 Phương trình bậc 2\n",
    "import math\n",
    "\n",
    "a = float(input(\"Enter a: \"))\n",
    "b = float(input(\"Enter b: \"))\n",
    "c = float(input(\"Enter c: \"))\n",
    "\n",
    "if a == 0: \n",
    "    if b == 0:\n",
    "        if c == 0:\n",
    "            print(\"Phương trình có vô số nghiệm.\")\n",
    "        else:\n",
    "            print(\"Phương trình vô nghiệm.\")\n",
    "    else:\n",
    "        x = -c / b\n",
    "        print(\"Phương trình có nghiệm:\", x)\n",
    "else:\n",
    "    delta = b ** 2 - 4*a*c\n",
    "\n",
    "    if delta < 0:\n",
    "        print(\"Phương trình vô nghiệm.\")\n",
    "    elif delta == 0:\n",
    "        x = -b / (2*a)\n",
    "        print(\"Phương trình có nghiệm kép:\", x)\n",
    "    else:\n",
    "        x1 = (-b + math.sqrt(delta)) / (2*a)\n",
    "        x2 = (-b - math.sqrt(delta)) / (2*a)\n",
    "        print(f\"Phương trình có 2 nghiệm phân biệt: {x1}, {x2}\")"
   ]
  },
  {
   "cell_type": "code",
   "execution_count": null,
   "id": "c219fe69",
   "metadata": {},
   "outputs": [
    {
     "name": "stdout",
     "output_type": "stream",
     "text": [
      "The smallest number is:  1.0\n"
     ]
    }
   ],
   "source": [
    "#6\n",
    "# Cach 1:\n",
    "# a, b, c, d = map(float, input(\"Enter 4 numbers: \").split())\n",
    "# minimum = min (a, b, c, d)\n",
    "# print(\"The smallest number is: \", minimum)\n",
    "\n",
    "\n",
    "while True:\n",
    "    try:\n",
    "        a, b, c, d = sorted(map(float, input(\"Enter 4 numbers: \").split()))\n",
    "        print(\"The smallest number is: \", a)\n",
    "        break\n",
    "\n",
    "    except ValueError:\n",
    "        print(\"Enter only numbers\")\n"
   ]
  },
  {
   "cell_type": "code",
   "execution_count": null,
   "id": "712da14d",
   "metadata": {},
   "outputs": [
    {
     "name": "stdout",
     "output_type": "stream",
     "text": [
      "Enter only numbers\n",
      "The biggest number is:  7.0\n"
     ]
    }
   ],
   "source": [
    "#7\n",
    "# Cach 1:\n",
    "# a, b, c, d = map(float, input(\"Enter 4 numbers: \").split())\n",
    "# maximum = max (a, b, c, d)\n",
    "# print(\"The biggest number is: \", maximum)\n",
    "\n",
    "# numbers = []\n",
    "\n",
    "# a, b, c, d = sorted(map(int, input(\"Nhap vao 4 so nguyen: \").split()))\n",
    "\n",
    "\n",
    "# numbers.append(a)\n",
    "# numbers.append(b)\n",
    "# numbers.append(c)\n",
    "# numbers.append(d)\n",
    "\n",
    "# print(numbers[-1])\n",
    "\n",
    "while True:\n",
    "    try:\n",
    "        a, b, c, d = sorted(map(float, input(\"Enter 4 numbers: \").split()))\n",
    "        print(\"The biggest number is: \", d)\n",
    "        break\n",
    "    except ValueError:\n",
    "        print(\"Enter only numbers\")\n",
    "    "
   ]
  },
  {
   "cell_type": "code",
   "execution_count": null,
   "id": "7ab298f6",
   "metadata": {},
   "outputs": [
    {
     "name": "stdout",
     "output_type": "stream",
     "text": [
      "Giải hệ phương trình:\n",
      "ax + by = m\n",
      "cx + dy = n\n",
      "Nghiệm: x = 0.00, y = 0.50\n"
     ]
    }
   ],
   "source": [
    "#8\n",
    "\n",
    "a, b, c, d, m, n = map(float, input(\"Enter a b c d m n: \").split())\n",
    "\n",
    "if a == 0 and b == 0 and c == 0 and d == 0:\n",
    "    if m == 0 and n == 0:\n",
    "        print(\"Hệ phương trình có vô số nghiệm.\")\n",
    "    else:\n",
    "        print(\"Hệ phương trình vô nghiệm.\")\n",
    "\n",
    "elif a*d - b*c == 0:  \n",
    "    # tỉ lệ\n",
    "    if a*n == c*m and b*n == d*m:\n",
    "        print(\"Hệ phương trình có vô số nghiệm.\")\n",
    "    else:\n",
    "        print(\"Hệ phương trình vô nghiệm.\")\n",
    "\n",
    "else:\n",
    "\n",
    "    if b != 0:\n",
    "        x = (n*b - d*m) / (c*b - d*a)\n",
    "        y = (m - a*x) / b\n",
    "    else:\n",
    "        x = m / a\n",
    "        y = (n - c*x) / d\n",
    "    \n",
    "    print(f\"Nghiệm: x = {x:.2f}, y = {y:.2f}\")\n"
   ]
  },
  {
   "cell_type": "code",
   "execution_count": null,
   "id": "938cf2f1",
   "metadata": {},
   "outputs": [
    {
     "name": "stdout",
     "output_type": "stream",
     "text": [
      "78 giây = 0 giờ, 1 phút, 18 giây\n"
     ]
    }
   ],
   "source": [
    "\n",
    "#9\n",
    "\n",
    "def exchange(time):\n",
    "    hour = time // 3600\n",
    "    time %= 3600\n",
    "\n",
    "    minute = time // 60\n",
    "    seccond = time % 60\n",
    "    \n",
    "    print(f\"{time} giây = {hour} giờ, {minute} phút, {seccond} giây\")\n",
    "    \n",
    "\n",
    "\n",
    "def main():\n",
    "    time = int(input(\"Enter number of secconds: \"))\n",
    "    if time < 0:\n",
    "        raise ValueError(\"Thời gian không được âm\")\n",
    "    else:\n",
    "        exchange(time)\n",
    "\n",
    "main()\n",
    "\n"
   ]
  },
  {
   "cell_type": "code",
   "execution_count": 8,
   "id": "5208332f",
   "metadata": {},
   "outputs": [
    {
     "name": "stdout",
     "output_type": "stream",
     "text": [
      "Diem A ko nam tren duong tron tam I ban kinh 5\n"
     ]
    }
   ],
   "source": [
    "#10\n",
    "import math\n",
    "\n",
    "\n",
    "class Coordinate:\n",
    "    def __init__(self, x, y):\n",
    "        self.x = x\n",
    "        self.y = y\n",
    "\n",
    "\n",
    "def read_coordinate_i():\n",
    "    x1 = int(input(\"Enter the cordinate of I(x) \"))\n",
    "    y1 = int(input(\"Enter the cordinate of I(y) \"))\n",
    "    center = Coordinate(x1, y1)\n",
    "    return center\n",
    "\n",
    "\n",
    "def read_coordinate_a():\n",
    "    x2 = int(input(\"Enter the cordinate of A(x) \"))\n",
    "    y2 = int(input(\"Enter the cordinate of A(y) \"))\n",
    "    point = Coordinate(x2, y2)\n",
    "    return point\n",
    "\n",
    "\n",
    "def check_circle(i, a):\n",
    "    r = int(input(\"Enter the radius of the circle: \"))\n",
    "    distance = math.sqrt((i.x - a.x)**2 + (i.y - a.y)**2)\n",
    "    if distance == r:\n",
    "        print(\"Diem A co nam tren duong tron tam I ban kinh \" + str(r))\n",
    "    else:\n",
    "        print(\"Diem A ko nam tren duong tron tam I ban kinh \" + str(r))\n",
    "\n",
    "\n",
    "def main():\n",
    "    i = read_coordinate_i()\n",
    "    a = read_coordinate_a()\n",
    "    result = check_circle(i, a)\n",
    "\n",
    "\n",
    "main()\n"
   ]
  },
  {
   "cell_type": "code",
   "execution_count": 1,
   "id": "fdcd42f1",
   "metadata": {},
   "outputs": [
    {
     "name": "stdout",
     "output_type": "stream",
     "text": [
      "243.0\n"
     ]
    }
   ],
   "source": [
    "# 11\n",
    "# x va y la so nguyen\n",
    "# x_str = input(\"Enter x: \")\n",
    "# y_str = input(\"Enter y: \")\n",
    "\n",
    "# if not (x_str.lstrip(\"-\").isdigit() and y_str.lstrip(\"-\").isdigit()):\n",
    "#     print(\"x và y phải là số nguyên\")\n",
    "# else:\n",
    "#     x = int(x_str)\n",
    "#     y = int(y_str)\n",
    "\n",
    "#     if x == 0 and y <= 0:\n",
    "#         print(\"Lỗi phép tính.\")\n",
    "#     else:\n",
    "#         print(f\"{x}^{y} = {x**y}\")\n",
    "\n",
    "\n",
    "\n",
    "try:\n",
    "    x = float(input(\"Enter x: \"))\n",
    "    y = float(input(\"Enter y: \"))\n",
    "    if x == 0 and y <= 0:\n",
    "        print(\"Lỗi phép tính\")\n",
    "    else: \n",
    "        print(x**y)\n",
    "\n",
    "except ValueError: \n",
    "    print(\"x và y phải là số nguyên\")"
   ]
  },
  {
   "cell_type": "code",
   "execution_count": null,
   "id": "8268c0e2",
   "metadata": {},
   "outputs": [],
   "source": []
  }
 ],
 "metadata": {
  "kernelspec": {
   "display_name": "Python 3",
   "language": "python",
   "name": "python3"
  },
  "language_info": {
   "codemirror_mode": {
    "name": "ipython",
    "version": 3
   },
   "file_extension": ".py",
   "mimetype": "text/x-python",
   "name": "python",
   "nbconvert_exporter": "python",
   "pygments_lexer": "ipython3",
   "version": "3.13.7"
  }
 },
 "nbformat": 4,
 "nbformat_minor": 5
}
