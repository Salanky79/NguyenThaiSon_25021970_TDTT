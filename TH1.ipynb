{
 "cells": [
  {
   "cell_type": "code",
   "execution_count": 1,
   "id": "6f89a6c2",
   "metadata": {},
   "outputs": [
    {
     "name": "stdout",
     "output_type": "stream",
     "text": [
      "hello world\n"
     ]
    }
   ],
   "source": [
    "print(\"hello world\")"
   ]
  },
  {
   "cell_type": "code",
   "execution_count": null,
   "id": "a9954dc2",
   "metadata": {},
   "outputs": [
    {
     "name": "stdout",
     "output_type": "stream",
     "text": [
      "Bạn vừa nhập: 5\n"
     ]
    }
   ],
   "source": [
    "a = int(input(\"chieu rong: \"))\n",
    "b = int(input(\"chieu dai: \"))\n",
    "\n",
    "s_hcn = a*b\n",
    "s_rmain = round(a*b - ((a/2)**2)*3.14, 2)\n",
    "\n",
    "print(s_rmain)\n"
   ]
  },
  {
   "cell_type": "code",
   "execution_count": 3,
   "id": "a81c00f9",
   "metadata": {},
   "outputs": [
    {
     "name": "stdout",
     "output_type": "stream",
     "text": [
      "Ký tự viết thường\n"
     ]
    }
   ],
   "source": [
    "while True:\n",
    "    char = input(\"Nhập một ký tự: \")\n",
    "\n",
    "    if len(char) != 1:\n",
    "        print(\"Bạn chỉ được nhập đúng 1 ký tự!\")\n",
    "        continue\n",
    "\n",
    "    if char.isdigit():   # kiểm tra có phải số không\n",
    "        print(\"Bạn không được nhập số nguyên!\")\n",
    "        continue\n",
    "\n",
    "    if char.isupper():\n",
    "        print(\"Ký tự viết hoa\")\n",
    "    elif char.islower():\n",
    "        print(\"Ký tự viết thường\")\n",
    "    else:\n",
    "        print(\"Không phải chữ cái\")\n",
    "    break\n"
   ]
  },
  {
   "cell_type": "code",
   "execution_count": 4,
   "id": "57295601",
   "metadata": {},
   "outputs": [
    {
     "name": "stdout",
     "output_type": "stream",
     "text": [
      "s la mot ki tu alphabet\n"
     ]
    }
   ],
   "source": [
    "a = input(\"Enter a character: \")\n",
    "if a.isalpha():\n",
    "    print(f\"{a} la mot ki tu alphabet\")\n",
    "\n",
    "else:\n",
    "    print(f\"{a} ko phai la mot ki tu alphabet\")\n"
   ]
  },
  {
   "cell_type": "code",
   "execution_count": 6,
   "id": "78929631",
   "metadata": {},
   "outputs": [
    {
     "name": "stdout",
     "output_type": "stream",
     "text": [
      "Chi duoc nhap 1 ki tu viet hoa\n"
     ]
    }
   ],
   "source": [
    "c = input(\"Nhap mot ki tu viet hoa bat ki: \")\n",
    "\n",
    "if c.isalpha() and len(c) == 1 and c.isupper():\n",
    "    if c == \"A\":\n",
    "        print(\"z\")\n",
    "    else:\n",
    "        c.lower()\n",
    "        print(chr(ord(c) - 1))\n",
    "else:\n",
    "    print(\"Chi duoc nhap 1 ki tu viet hoa\")\n"
   ]
  },
  {
   "cell_type": "code",
   "execution_count": 7,
   "id": "bf89bcff",
   "metadata": {},
   "outputs": [
    {
     "ename": "ValueError",
     "evalue": "could not convert string to float: 's'",
     "output_type": "error",
     "traceback": [
      "\u001b[31m---------------------------------------------------------------------------\u001b[39m",
      "\u001b[31mValueError\u001b[39m                                Traceback (most recent call last)",
      "\u001b[36mCell\u001b[39m\u001b[36m \u001b[39m\u001b[32mIn[7]\u001b[39m\u001b[32m, line 1\u001b[39m\n\u001b[32m----> \u001b[39m\u001b[32m1\u001b[39m a, b, c = \u001b[38;5;28mmap\u001b[39m(\u001b[38;5;28mfloat\u001b[39m, \u001b[38;5;28minput\u001b[39m(\u001b[33m\"\u001b[39m\u001b[33mEnter 3 numbers: \u001b[39m\u001b[33m\"\u001b[39m).split())\n\u001b[32m      4\u001b[39m \u001b[38;5;28;01mif\u001b[39;00m a + b > c \u001b[38;5;129;01mand\u001b[39;00m a + c > b \u001b[38;5;129;01mand\u001b[39;00m b + c > a:\n\u001b[32m      5\u001b[39m     p = (a + b + c) / \u001b[32m2\u001b[39m\n",
      "\u001b[31mValueError\u001b[39m: could not convert string to float: 's'"
     ]
    }
   ],
   "source": [
    "a, b, c = map(float, input(\"Enter 3 numbers: \").split())\n",
    "\n",
    "\n",
    "if a + b > c and a + c > b and b + c > a:\n",
    "    p = (a + b + c) / 2\n",
    "    s = (p * (p - a) * (p - b) * (p - c)) ** 0.5\n",
    "    print(\"Diện tích của tam giác là:\", s)\n",
    "else:\n",
    "    print(\"Ba cạnh không tạo thành tam giác\")\n"
   ]
  },
  {
   "cell_type": "code",
   "execution_count": 8,
   "id": "d35276b3",
   "metadata": {},
   "outputs": [
    {
     "name": "stdout",
     "output_type": "stream",
     "text": [
      "Vui long nhap lai\n"
     ]
    }
   ],
   "source": [
    "string = input(\"Nhap mot chuoi ki tu co do dai lon hon hoac bang 20: \")\n",
    "\n",
    "if len(string) >= 20 and string.isalpha():\n",
    "    print(f\"Ki tu thu 5 va thu 9 la: {string[6]}, {string[10]}\")\n",
    "else:\n",
    "    print(\"Vui long nhap lai\")\n"
   ]
  },
  {
   "cell_type": "code",
   "execution_count": 9,
   "id": "faa548ce",
   "metadata": {},
   "outputs": [
    {
     "ename": "ValueError",
     "evalue": "invalid literal for int() with base 10: 's'",
     "output_type": "error",
     "traceback": [
      "\u001b[31m---------------------------------------------------------------------------\u001b[39m",
      "\u001b[31mValueError\u001b[39m                                Traceback (most recent call last)",
      "\u001b[36mCell\u001b[39m\u001b[36m \u001b[39m\u001b[32mIn[9]\u001b[39m\u001b[32m, line 2\u001b[39m\n\u001b[32m      1\u001b[39m ho_ten = \u001b[38;5;28minput\u001b[39m(\u001b[33m\"\u001b[39m\u001b[33mNhập họ tên chủ hộ: \u001b[39m\u001b[33m\"\u001b[39m)\n\u001b[32m----> \u001b[39m\u001b[32m2\u001b[39m chi_so_truoc = \u001b[38;5;28;43mint\u001b[39;49m\u001b[43m(\u001b[49m\u001b[38;5;28;43minput\u001b[39;49m\u001b[43m(\u001b[49m\u001b[33;43m\"\u001b[39;49m\u001b[33;43mNhập chỉ số điện kế tháng trước: \u001b[39;49m\u001b[33;43m\"\u001b[39;49m\u001b[43m)\u001b[49m\u001b[43m)\u001b[49m\n\u001b[32m      3\u001b[39m chi_so_hien_tai = \u001b[38;5;28mint\u001b[39m(\u001b[38;5;28minput\u001b[39m(\u001b[33m\"\u001b[39m\u001b[33mNhập chỉ số điện kế tháng này: \u001b[39m\u001b[33m\"\u001b[39m))\n\u001b[32m      5\u001b[39m \u001b[38;5;66;03m# Tính số kWh tiêu thụ\u001b[39;00m\n",
      "\u001b[31mValueError\u001b[39m: invalid literal for int() with base 10: 's'"
     ]
    }
   ],
   "source": [
    "\n",
    "ho_ten = input(\"Nhập họ tên chủ hộ: \")\n",
    "chi_so_truoc = int(input(\"Nhập chỉ số điện kế tháng trước: \"))\n",
    "chi_so_hien_tai = int(input(\"Nhập chỉ số điện kế tháng này: \"))\n",
    "\n",
    "# Tính số kWh tiêu thụ\n",
    "so_kWh = chi_so_hien_tai - chi_so_truoc\n",
    "\n",
    "if so_kWh < 0:\n",
    "    print(\"Chỉ số điện không hợp lệ! Tháng này phải lớn hơn hoặc bằng tháng trước.\")\n",
    "else:\n",
    "\n",
    "    tien_dien = 0\n",
    "    kWh_con_lai = so_kWh\n",
    "\n",
    "    # Bậc 6: Từ 401 trở đi\n",
    "    if kWh_con_lai > 400:\n",
    "        tien_dien += (kWh_con_lai - 400) * 3460\n",
    "        kWh_con_lai = 400\n",
    "\n",
    "    # Bậc 5: Từ 301 – 400 kWh\n",
    "    if kWh_con_lai > 300:\n",
    "        tien_dien += (kWh_con_lai - 300) * 3350\n",
    "        kWh_con_lai = 300\n",
    "\n",
    "    # Bậc 4: Từ 201 – 300 kWh\n",
    "    if kWh_con_lai > 200:\n",
    "        tien_dien += (kWh_con_lai - 200) * 2998\n",
    "        kWh_con_lai = 200\n",
    "\n",
    "    # Bậc 3: Từ 101 – 200 kWh\n",
    "    if kWh_con_lai > 100:\n",
    "        tien_dien += (kWh_con_lai - 100) * 2380\n",
    "        kWh_con_lai = 100\n",
    "\n",
    "    # Bậc 2: Từ 51 – 100 kWh\n",
    "    if kWh_con_lai > 50:\n",
    "        tien_dien += (kWh_con_lai - 50) * 2050\n",
    "        kWh_con_lai = 50\n",
    "\n",
    "    # Bậc 1: Từ 0 – 50 kWh\n",
    "    tien_dien += kWh_con_lai * 1984\n",
    "\n",
    "    # Tính VAT 8%\n",
    "    tien_vat = int(tien_dien * 0.08)\n",
    "\n",
    "    tong_tien = tien_dien + tien_vat\n",
    "\n",
    "    # Hiển thị kết quả\n",
    "\n",
    "    print(\"\\nHÓA ĐƠN TIỀN ĐIỆN\\n\")\n",
    "\n",
    "    print(f\"Chủ hộ: {ho_ten}\")\n",
    "    print(f\"Chỉ số tháng trước: {chi_so_truoc} kWh\")\n",
    "    print(f\"Chỉ số tháng này: {chi_so_hien_tai} kWh\")\n",
    "\n",
    "    print(f\"TỔNG TIỀN PHẢI TRẢ: {tong_tien} đồng\")\n"
   ]
  },
  {
   "cell_type": "code",
   "execution_count": null,
   "id": "ce11011b",
   "metadata": {},
   "outputs": [],
   "source": [
    "# Nhập số từ người dùng\n",
    "so = int(input(\"Nhập một số nguyên từ 0 đến 9: \"))\n",
    "\n",
    "# Sử dụng match...case để chuyển đổi\n",
    "match so:\n",
    "    case 0:\n",
    "        chu_so = \"Không\"\n",
    "    case 1:\n",
    "        chu_so = \"Một\"\n",
    "    case 2:\n",
    "        chu_so = \"Hai\"\n",
    "    case 3:\n",
    "        chu_so = \"Ba\"\n",
    "    case 4:\n",
    "        chu_so = \"Bốn\"\n",
    "    case 5:\n",
    "        chu_so = \"Năm\"\n",
    "    case 6:\n",
    "        chu_so = \"Sáu\"\n",
    "    case 7:\n",
    "        chu_so = \"Bảy\"\n",
    "    case 8:\n",
    "        chu_so = \"Tám\"\n",
    "    case 9:\n",
    "        chu_so = \"Chín\"\n",
    "    case _:\n",
    "        chu_so = \"Số không hợp lệ! Vui lòng nhập số từ 0 đến 9\"\n",
    "\n",
    "# In kết quả\n",
    "print(f\"Số {so} -> \\\"{chu_so}\\\"\")\n"
   ]
  }
 ],
 "metadata": {
  "kernelspec": {
   "display_name": "Python 3",
   "language": "python",
   "name": "python3"
  },
  "language_info": {
   "codemirror_mode": {
    "name": "ipython",
    "version": 3
   },
   "file_extension": ".py",
   "mimetype": "text/x-python",
   "name": "python",
   "nbconvert_exporter": "python",
   "pygments_lexer": "ipython3",
   "version": "3.13.7"
  }
 },
 "nbformat": 4,
 "nbformat_minor": 5
}
