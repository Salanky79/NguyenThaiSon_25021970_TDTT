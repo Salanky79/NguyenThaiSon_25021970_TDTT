{
 "cells": [
  {
   "cell_type": "code",
   "execution_count": null,
   "id": "8d4f383f",
   "metadata": {},
   "outputs": [
    {
     "name": "stdout",
     "output_type": "stream",
     "text": [
      "Hoán đổi vị trí: 5, 3\n"
     ]
    }
   ],
   "source": [
    "# Hoán đổi giá trị hai biến bằng XOR\n",
    "# XOR khi nào giống nhau => 0 (FALSE), khác nhau => 1 (TRUE)\n",
    "x = int(input(\"Nhập x: \"))\n",
    "y = int(input(\"Nhập y: \"))\n",
    "\n",
    "x = x ^ y # tạo một \"hỗn hợp\" giữa x và y\n",
    "y = x ^ y # cho hỗn hợp ấy XOR với y => phần nào giống y biến mất => chỉ còn lại x\n",
    "x = x ^ y # cho hỗn hợp ấy XOR với y (lúc này đag là x) => phần nào giống x biến mất => chỉ còn lại y\n",
    "\n",
    "print(f\"Hoán đổi vị trí: {x}, {y}\")"
   ]
  },
  {
   "cell_type": "code",
   "execution_count": null,
   "id": "d62bd91c",
   "metadata": {},
   "outputs": [
    {
     "name": "stdout",
     "output_type": "stream",
     "text": [
      "4 la mot luy thua cua 2\n"
     ]
    }
   ],
   "source": [
    "\n",
    "n = int(input(\"Enter n number: \"))\n",
    "\n",
    "if n > 0 and (n & ( n - 1) == 0): # bitwise AND /// neu mot so la luy thua cua 2 thi no chi co 1 bit la 1 ( 10000)\n",
    "    print(f\"{n} la mot luy thua cua 2\")\n",
    "else:\n",
    "    print(f\"{n} ko phai la mot luy thua cua 2\")    \n"
   ]
  },
  {
   "cell_type": "code",
   "execution_count": null,
   "id": "f9964355",
   "metadata": {},
   "outputs": [
    {
     "name": "stdout",
     "output_type": "stream",
     "text": [
      "Kết quả chia 5 cho 2 làm tròn xuống: 2\n"
     ]
    }
   ],
   "source": [
    "\n",
    "m = int(input(\"Nhập m: \"))\n",
    "n = int(input(\"Nhập n: \"))\n",
    "\n",
    "ket_qua = m // n\n",
    "print(f\"Kết quả chia {m} cho {n} làm tròn xuống: {ket_qua}\")\n",
    "\n"
   ]
  },
  {
   "cell_type": "code",
   "execution_count": null,
   "id": "b0ac8928",
   "metadata": {},
   "outputs": [
    {
     "name": "stdout",
     "output_type": "stream",
     "text": [
      "Kết quả chia 6 cho 4 làm tròn lên: 2\n"
     ]
    }
   ],
   "source": [
    "\n",
    "import math\n",
    "\n",
    "m = int(input(\"Nhập m: \"))\n",
    "n = int(input(\"Nhập n: \"))\n",
    "\n",
    "ket_qua = math.ceil(m / n) # lam tron len (ceilling)\n",
    "print(f\"Kết quả chia {m} cho {n} làm tròn lên: {ket_qua}\")\n"
   ]
  },
  {
   "cell_type": "code",
   "execution_count": null,
   "id": "58021b55",
   "metadata": {},
   "outputs": [
    {
     "name": "stdout",
     "output_type": "stream",
     "text": [
      "Odd\n"
     ]
    }
   ],
   "source": [
    "\n",
    "while True:\n",
    "    try:\n",
    "        a = int(input(\"Enter a positive number: \"))\n",
    "        if a > 0:\n",
    "            if a % 2 == 0:\n",
    "                print(\"Even\")\n",
    "            else: \n",
    "                print(\"Odd\")\n",
    "            break\n",
    "\n",
    "        else: \n",
    "            print(\"Need a positve number!\")\n",
    "        \n",
    "    except ValueError:\n",
    "        print(\"Please enter an integer!\")"
   ]
  },
  {
   "cell_type": "code",
   "execution_count": null,
   "id": "790a0f22",
   "metadata": {},
   "outputs": [],
   "source": [
    "while True:\n",
    "    try:\n",
    "        a, b = map(int, input(\"Enter 2 numbers: \").split())\n",
    "        if a < 0 and b < 0:\n",
    "            print(\"Yes\")\n",
    "        else:\n",
    "            print(\"No\")\n",
    "        break\n",
    "    except ValueError:\n",
    "        print(\"Enter 2 numbers only!\")\n"
   ]
  },
  {
   "cell_type": "code",
   "execution_count": 15,
   "id": "e9543fc3",
   "metadata": {},
   "outputs": [
    {
     "name": "stdout",
     "output_type": "stream",
     "text": [
      "Hay nhap chui ki tu viet thuong\n",
      "Hay nhap chui ki tu viet thuong\n",
      "False\n"
     ]
    }
   ],
   "source": [
    "while True:\n",
    "    a= input(\"Nhap chuoi thu nhat(chu cai thuong): \")\n",
    "    b = input(\"Nhap chuoi thu 2 (chu cai thuong)\")\n",
    "\n",
    "    if a.islower() and b.islower():\n",
    "        if len(a) > len(b):\n",
    "            print(\"True\")\n",
    "        elif len(a) < len(b): \n",
    "            print(\"False\")\n",
    "        else:\n",
    "            print(\"Nothing\")\n",
    "        break\n",
    "\n",
    "\n",
    "    else:\n",
    "        print(\"Hay nhap chui ki tu viet thuong\")\n"
   ]
  },
  {
   "cell_type": "code",
   "execution_count": 16,
   "id": "f6f2b98c",
   "metadata": {},
   "outputs": [
    {
     "name": "stdout",
     "output_type": "stream",
     "text": [
      " Nhap vao 3 so nguyen!\n",
      "Yes\n"
     ]
    }
   ],
   "source": [
    "while True:\n",
    "    try: \n",
    "        a, b, c = sorted(map(int, input(\"Nhap vao 3 so nguyen duong: \").split()))\n",
    "        if a <= 0 or b <= 0 or c <= 0:\n",
    "            print(\"Nhap vao 3 so duong\")\n",
    "            continue\n",
    "        if a + b > c:\n",
    "            print(\"Yes\")\n",
    "        else:\n",
    "            print(\"No\")\n",
    "        break\n",
    "    except ValueError:\n",
    "        print(\" Nhap vao 3 so nguyen!\")"
   ]
  },
  {
   "cell_type": "code",
   "execution_count": 19,
   "id": "f7453a8b",
   "metadata": {},
   "outputs": [
    {
     "name": "stdout",
     "output_type": "stream",
     "text": [
      "The biggest number is:  7.0\n"
     ]
    }
   ],
   "source": [
    "#7\n",
    "# Cach 1:\n",
    "# a, b, c, d = map(float, input(\"Enter 4 numbers: \").split())\n",
    "# maximum = max (a, b, c, d)\n",
    "# print(\"The biggest number is: \", maximum)\n",
    "\n",
    "# Cach 2\n",
    "# numbers = []\n",
    "# a, b, c, d = sorted(map(int, input(\"Nhap vao 4 so nguyen: \").split()))\n",
    "# numbers.append(a)\n",
    "# numbers.append(b)\n",
    "# numbers.append(c)\n",
    "# numbers.append(d)\n",
    "\n",
    "# print(numbers[-1])\n",
    "\n",
    "while True:\n",
    "    try:\n",
    "        a, b, c, d = sorted(map(float, input(\"Enter 4 numbers: \").split()))\n",
    "        print(\"The biggest number is: \", d)\n",
    "        break\n",
    "    except ValueError:\n",
    "        print(\"Enter only numbers\")\n",
    "    "
   ]
  },
  {
   "cell_type": "code",
   "execution_count": 17,
   "id": "a3addf7f",
   "metadata": {},
   "outputs": [
    {
     "name": "stdout",
     "output_type": "stream",
     "text": [
      "3, 4, 5, la ba canh cua mot tam giac.\n",
      "tam giác vuông\n"
     ]
    }
   ],
   "source": [
    "\n",
    "a, b, c = sorted(map(int, input(\"Enter three numbers: \").split()))\n",
    "\n",
    "if a + b > c:\n",
    "    print(f\"{a}, {b}, {c}, la ba canh cua mot tam giac.\")\n",
    "\n",
    "    if a == b and a == c and b == c:\n",
    "        print(\"tam giac deu\")\n",
    "    elif a == b or b == c or a == c:\n",
    "        print(\"tam giac can\")\n",
    "    elif a*a + b*b == c*c:\n",
    "        print(\"tam giác vuông\")\n",
    "    else:\n",
    "        print(\"tam giác thường\")\n",
    "    \n",
    "else:\n",
    "    print(\"Khong la ba canh cua mot tam giac.\")"
   ]
  }
 ],
 "metadata": {
  "kernelspec": {
   "display_name": "Python 3",
   "language": "python",
   "name": "python3"
  },
  "language_info": {
   "codemirror_mode": {
    "name": "ipython",
    "version": 3
   },
   "file_extension": ".py",
   "mimetype": "text/x-python",
   "name": "python",
   "nbconvert_exporter": "python",
   "pygments_lexer": "ipython3",
   "version": "3.13.7"
  }
 },
 "nbformat": 4,
 "nbformat_minor": 5
}
