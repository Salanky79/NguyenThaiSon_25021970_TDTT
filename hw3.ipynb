{
 "cells": [
  {
   "cell_type": "code",
   "execution_count": null,
   "id": "8d4f383f",
   "metadata": {},
   "outputs": [
    {
     "name": "stdout",
     "output_type": "stream",
     "text": [
      "Hoán đổi vị trí: 5, 3\n"
     ]
    }
   ],
   "source": [
    "# Hoán đổi giá trị hai biến bằng XOR\n",
    "# XOR khi nào giống nhau => 0 (FALSE), khác nhau => 1 (TRUE)\n",
    "x = int(input(\"Nhập x: \"))\n",
    "y = int(input(\"Nhập y: \"))\n",
    "\n",
    "x = x ^ y # tạo một \"hỗn hợp\" giữa x và y\n",
    "y = x ^ y # cho hỗn hợp ấy XOR với y => phần nào giống y biến mất => chỉ còn lại x\n",
    "x = x ^ y # cho hỗn hợp ấy XOR với y (lúc này đag là x) => phần nào giống x biến mất => chỉ còn lại y\n",
    "\n",
    "print(f\"Hoán đổi vị trí: {x}, {y}\")"
   ]
  },
  {
   "cell_type": "code",
   "execution_count": null,
   "id": "d62bd91c",
   "metadata": {},
   "outputs": [
    {
     "name": "stdout",
     "output_type": "stream",
     "text": [
      "4 la mot luy thua cua 2\n"
     ]
    }
   ],
   "source": [
    "\n",
    "n = int(input(\"Enter n number: \"))\n",
    "\n",
    "if n > 0 and (n & ( n - 1) == 0): # bitwise AND /// neu mot so la luy thua cua 2 thi no chi co 1 bit la 1 ( 10000)\n",
    "    print(f\"{n} la mot luy thua cua 2\")\n",
    "else:\n",
    "    print(f\"{n} ko phai la mot luy thua cua 2\")    \n"
   ]
  },
  {
   "cell_type": "code",
   "execution_count": null,
   "id": "f9964355",
   "metadata": {},
   "outputs": [
    {
     "name": "stdout",
     "output_type": "stream",
     "text": [
      "Kết quả chia 5 cho 2 làm tròn xuống: 2\n"
     ]
    }
   ],
   "source": [
    "\n",
    "m = int(input(\"Nhập m: \"))\n",
    "n = int(input(\"Nhập n: \"))\n",
    "\n",
    "ket_qua = m // n\n",
    "print(f\"Kết quả chia {m} cho {n} làm tròn xuống: {ket_qua}\")\n",
    "\n"
   ]
  },
  {
   "cell_type": "code",
   "execution_count": null,
   "id": "b0ac8928",
   "metadata": {},
   "outputs": [
    {
     "name": "stdout",
     "output_type": "stream",
     "text": [
      "Kết quả chia 6 cho 4 làm tròn lên: 2\n"
     ]
    }
   ],
   "source": [
    "\n",
    "import math\n",
    "\n",
    "m = int(input(\"Nhập m: \"))\n",
    "n = int(input(\"Nhập n: \"))\n",
    "\n",
    "ket_qua = math.ceil(m / n) # lam tron len (ceilling)\n",
    "print(f\"Kết quả chia {m} cho {n} làm tròn lên: {ket_qua}\")\n"
   ]
  },
  {
   "cell_type": "code",
   "execution_count": null,
   "id": "58021b55",
   "metadata": {},
   "outputs": [
    {
     "name": "stdout",
     "output_type": "stream",
     "text": [
      "Odd\n"
     ]
    }
   ],
   "source": [
    "\n",
    "while True:\n",
    "    try:\n",
    "        a = int(input(\"Enter a positive number: \"))\n",
    "        if a > 0:\n",
    "            if a % 2 == 0:\n",
    "                print(\"Even\")\n",
    "            else: \n",
    "                print(\"Odd\")\n",
    "            break\n",
    "\n",
    "        else: \n",
    "            print(\"Need a positve number!\")\n",
    "        \n",
    "    except ValueError:\n",
    "        print(\"Please enter an integer!\")"
   ]
  },
  {
   "cell_type": "code",
   "execution_count": null,
   "id": "790a0f22",
   "metadata": {},
   "outputs": [],
   "source": [
    "while True:\n",
    "    try:\n",
    "        a, b = map(int, input(\"Enter 2 numbers: \").split())\n",
    "        if a < 0 and b < 0:\n",
    "            print(\"Yes\")\n",
    "        else:\n",
    "            print(\"No\")\n",
    "        break\n",
    "    except ValueError:\n",
    "        print(\"Enter 2 numbers only!\")\n"
   ]
  },
  {
   "cell_type": "code",
   "execution_count": 15,
   "id": "e9543fc3",
   "metadata": {},
   "outputs": [
    {
     "name": "stdout",
     "output_type": "stream",
     "text": [
      "Hay nhap chui ki tu viet thuong\n",
      "Hay nhap chui ki tu viet thuong\n",
      "False\n"
     ]
    }
   ],
   "source": [
    "while True:\n",
    "    a= input(\"Nhap chuoi thu nhat(chu cai thuong): \")\n",
    "    b = input(\"Nhap chuoi thu 2 (chu cai thuong)\")\n",
    "\n",
    "    if a.islower() and b.islower():\n",
    "        if len(a) > len(b):\n",
    "            print(\"True\")\n",
    "        elif len(a) < len(b): \n",
    "            print(\"False\")\n",
    "        else:\n",
    "            print(\"Nothing\")\n",
    "        break\n",
    "\n",
    "\n",
    "    else:\n",
    "        print(\"Hay nhap chui ki tu viet thuong\")\n"
   ]
  },
  {
   "cell_type": "code",
   "execution_count": 16,
   "id": "f6f2b98c",
   "metadata": {},
   "outputs": [
    {
     "name": "stdout",
     "output_type": "stream",
     "text": [
      " Nhap vao 3 so nguyen!\n",
      "Yes\n"
     ]
    }
   ],
   "source": [
    "while True:\n",
    "    try: \n",
    "        a, b, c = sorted(map(int, input(\"Nhap vao 3 so nguyen duong: \").split()))\n",
    "        if a <= 0 or b <= 0 or c <= 0:\n",
    "            print(\"Nhap vao 3 so duong\")\n",
    "            continue\n",
    "        if a + b > c:\n",
    "            print(\"Yes\")\n",
    "        else:\n",
    "            print(\"No\")\n",
    "        break\n",
    "    except ValueError:\n",
    "        print(\" Nhap vao 3 so nguyen!\")"
   ]
  },
  {
   "cell_type": "code",
   "execution_count": 19,
   "id": "f7453a8b",
   "metadata": {},
   "outputs": [
    {
     "name": "stdout",
     "output_type": "stream",
     "text": [
      "The biggest number is:  7.0\n"
     ]
    }
   ],
   "source": [
    "#7\n",
    "# Cach 1:\n",
    "# a, b, c, d = map(float, input(\"Enter 4 numbers: \").split())\n",
    "# maximum = max (a, b, c, d)\n",
    "# print(\"The biggest number is: \", maximum)\n",
    "\n",
    "# Cach 2\n",
    "# numbers = []\n",
    "# a, b, c, d = sorted(map(int, input(\"Nhap vao 4 so nguyen: \").split()))\n",
    "# numbers.append(a)\n",
    "# numbers.append(b)\n",
    "# numbers.append(c)\n",
    "# numbers.append(d)\n",
    "\n",
    "# print(numbers[-1])\n",
    "\n",
    "while True:\n",
    "    try:\n",
    "        a, b, c, d = sorted(map(float, input(\"Enter 4 numbers: \").split()))\n",
    "        print(\"The biggest number is: \", d)\n",
    "        break\n",
    "    except ValueError:\n",
    "        print(\"Enter only numbers\")\n",
    "    "
   ]
  },
  {
   "cell_type": "code",
   "execution_count": 1,
   "id": "a3addf7f",
   "metadata": {},
   "outputs": [
    {
     "name": "stdout",
     "output_type": "stream",
     "text": [
      "3, 4, 5, la ba canh cua mot tam giac.\n",
      "tam giác vuông\n"
     ]
    }
   ],
   "source": [
    "\n",
    "a, b, c = sorted(map(int, input(\"Enter three numbers: \").split()))\n",
    "\n",
    "if a + b > c:\n",
    "    print(f\"{a}, {b}, {c}, la ba canh cua mot tam giac.\")\n",
    "\n",
    "    if a == b and a == c and b == c:\n",
    "        print(\"tam giac deu\")\n",
    "    elif a == b or b == c or a == c:\n",
    "        print(\"tam giac can\")\n",
    "    elif a*a + b*b == c*c:\n",
    "        print(\"tam giác vuông\")\n",
    "    else:\n",
    "        print(\"tam giác thường\")\n",
    "    \n",
    "else:\n",
    "    print(\"Khong la ba canh cua mot tam giac.\")"
   ]
  },
  {
   "cell_type": "code",
   "execution_count": 3,
   "id": "3a7fa9e2",
   "metadata": {},
   "outputs": [
    {
     "name": "stdout",
     "output_type": "stream",
     "text": [
      "No\n"
     ]
    }
   ],
   "source": [
    "year = int(input(\"Nhap so nam: \"))\n",
    "\n",
    "if year > 0 :\n",
    "    if year % 4 == 0 and year % 100 != 0:\n",
    "        print(\"Yes\")\n",
    "    else: \n",
    "        print(\"No\")\n",
    "else: \n",
    "    print(\"So nam phai la so duong!\")\n",
    "\n"
   ]
  },
  {
   "cell_type": "code",
   "execution_count": null,
   "id": "8a5e6b5e",
   "metadata": {},
   "outputs": [
    {
     "name": "stdout",
     "output_type": "stream",
     "text": [
      "Nghiệm của phương trình là: -1.25\n"
     ]
    }
   ],
   "source": [
    "\n",
    "a = float(input(\"Enter a: \"))\n",
    "b = float(input(\"Enter b: \"))\n",
    "\n",
    "if a == 0:\n",
    "    if b == 0:\n",
    "        print(\"Phương trình có vô số nghiệm.\")\n",
    "    else:\n",
    "        print(\"Phương trình vô nghiệm.\")\n",
    "else:\n",
    "    x = -b / a\n",
    "    print(f\"Nghiệm của phương trình là: {x}\")\n"
   ]
  },
  {
   "cell_type": "code",
   "execution_count": 5,
   "id": "b8f849cb",
   "metadata": {},
   "outputs": [
    {
     "name": "stdout",
     "output_type": "stream",
     "text": [
      "Student 1:\n",
      "Student 2:\n",
      "\n",
      "\n",
      "\n",
      "\n",
      "Student 1\n",
      "Math score: 8\n",
      "Literature score: 9\n",
      "Student 2\n",
      "Math score: 7\n",
      "Literature score: 8\n",
      "Student 1 has an average score is: 8.5\n",
      "Student 2 has an average score is: 7.5\n",
      "Student 1: \n",
      "gioi\n",
      "Student 2: \n",
      "Kha\n"
     ]
    }
   ],
   "source": [
    "# xep loai hoc luc\n",
    "\n",
    "class Student:\n",
    "    def __init__(self, math_score, literature_score):\n",
    "        self.math_score = math_score\n",
    "        self.literature_score = literature_score\n",
    "\n",
    "\n",
    "def read_score():\n",
    "    math_score = int(input(\"Math score: \"))\n",
    "    literature_score = int(input(\"Literature score: \"))\n",
    "    score = Student(math_score, literature_score)\n",
    "    return score\n",
    "\n",
    "\n",
    "def read_scores():\n",
    "    scores = []\n",
    "    x = int(input(\"How many students\"))\n",
    "    for i in range(x):\n",
    "        print(f\"Student {i + 1}:\")\n",
    "        score = read_score()\n",
    "        scores.append(score)\n",
    "\n",
    "    return scores\n",
    "\n",
    "\n",
    "def print_score(score):\n",
    "    print(\"Math score: \" + str(score.math_score))\n",
    "    print(\"Literature score: \" + str(score.literature_score))\n",
    "\n",
    "\n",
    "def print_scores(scores):\n",
    "    for i in range(len(scores)):\n",
    "        print(f\"Student {i + 1}\")\n",
    "        print_score(scores[i])\n",
    "\n",
    "\n",
    "def average_score(score):\n",
    "    aver = (score.math_score + score.literature_score) / 2\n",
    "    print(aver)\n",
    "    return aver\n",
    "\n",
    "\n",
    "def average_scores(scores):\n",
    "    points = []\n",
    "    for i in range(len(scores)):\n",
    "        print(f\"Student {i + 1} has an average score is: \", end=\"\")\n",
    "        a = average_score(scores[i])\n",
    "        points.append(a)\n",
    "    return points\n",
    "\n",
    "\n",
    "def check_score(point):\n",
    "    if point >= 8.0:\n",
    "        print(\"gioi\")\n",
    "    elif 6.5 <= point < 8.0:\n",
    "        print(\"Kha\")\n",
    "    elif 5.0 <= point < 6.5:\n",
    "        print(\"Trung binh\")\n",
    "    else:\n",
    "        print(\"Kem\")\n",
    "\n",
    "\n",
    "def check_scores(points):\n",
    "    for i in range(len(points)):\n",
    "        print(f\"Student {i + 1}: \")\n",
    "        check_score(points[i])\n",
    "\n",
    "\n",
    "def main():\n",
    "    scores = read_scores()\n",
    "    print(\"\\n\\n\\n\")\n",
    "    print_scores(scores)\n",
    "\n",
    "    aver = average_scores(scores)\n",
    "    check_scores(aver)\n",
    "\n",
    "\n",
    "main()\n"
   ]
  },
  {
   "cell_type": "code",
   "execution_count": 6,
   "id": "0db63327",
   "metadata": {},
   "outputs": [
    {
     "name": "stdout",
     "output_type": "stream",
     "text": [
      "Ket qua lam tron den so nguyen gan nhat: 6\n",
      "Ket qua lam tron xuong: 5\n",
      "Ket qua lam tron len: 6\n"
     ]
    }
   ],
   "source": [
    "a = float(input(\"Nhap vao mot so thuc bat ki: \"))\n",
    "\n",
    "def round_nearest(a):\n",
    "    a_rounded = int(a + 0.5) if a >= 0 else int(a - 0.5)\n",
    "    print(f\"Ket qua lam tron den so nguyen gan nhat: {a_rounded}\")\n",
    "\n",
    "def round_up(a):\n",
    "    if a == int(a):\n",
    "        a_ceil = int(a)\n",
    "    elif a > 0:\n",
    "        a_ceil = int(a) + 1\n",
    "    else:\n",
    "        a_ceil = int(a)\n",
    "    print(f\"Ket qua lam tron len: {a_ceil}\")\n",
    "\n",
    "def round_down(a):\n",
    "    if a == int(a):\n",
    "        a_floor = int(a)\n",
    "    elif a > 0:\n",
    "        a_floor = int(a)\n",
    "    else:\n",
    "        a_floor = int(a) - 1\n",
    "    print(f\"Ket qua lam tron xuong: {a_floor}\")\n",
    "\n",
    "def main():\n",
    "    round_nearest(a)\n",
    "    round_down(a)\n",
    "    round_up(a)\n",
    "\n",
    "main()\n"
   ]
  },
  {
   "cell_type": "code",
   "execution_count": null,
   "id": "de426f39",
   "metadata": {},
   "outputs": [],
   "source": [
    "\n",
    "a, b, c, d = sorted(map(int, input(\"Nhập số a, b, c, d: \").split()))\n",
    "\n",
    "\n",
    "def check_cong_boi(a, b, c, d):\n",
    "    # Kiểm tra a khác 0 để tránh chia 0\n",
    "    if a == 0:\n",
    "        print(\"Không thể tạo cấp số nhân vì a = 0\")\n",
    "        return\n",
    "    \n",
    "    # Kiểm tra b có chia hết cho a không\n",
    "    if b % a != 0:\n",
    "        print(\"Không phải cấp số nhân với công bội nguyên\")\n",
    "        return\n",
    "    \n",
    "    r = b // a  # công bội nguyên\n",
    "    if b * r == c and c * r == d:\n",
    "        print(f\"Là cấp số nhân với công bội r = {r}\")\n",
    "    else:\n",
    "        print(\"Không phải cấp số nhân với công bội nguyên\")\n",
    "\n",
    "check_cong_boi(a, b, c, d)\n"
   ]
  }
 ],
 "metadata": {
  "kernelspec": {
   "display_name": "Python 3",
   "language": "python",
   "name": "python3"
  },
  "language_info": {
   "codemirror_mode": {
    "name": "ipython",
    "version": 3
   },
   "file_extension": ".py",
   "mimetype": "text/x-python",
   "name": "python",
   "nbconvert_exporter": "python",
   "pygments_lexer": "ipython3",
   "version": "3.13.7"
  }
 },
 "nbformat": 4,
 "nbformat_minor": 5
}
