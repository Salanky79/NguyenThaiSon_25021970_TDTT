{
 "cells": [
  {
   "cell_type": "code",
   "execution_count": null,
   "id": "6f89a6c2",
   "metadata": {},
   "outputs": [
    {
     "name": "stdout",
     "output_type": "stream",
     "text": [
      "22\n"
     ]
    }
   ],
   "source": [
    "n = int(input(\"Nhap vao mot so bat ki: \"))\n",
    "\n",
    "print(n*2)"
   ]
  },
  {
   "cell_type": "code",
   "execution_count": null,
   "id": "a9954dc2",
   "metadata": {},
   "outputs": [
    {
     "name": "stdout",
     "output_type": "stream",
     "text": [
      "Bạn vừa nhập: 5\n"
     ]
    }
   ],
   "source": [
    "a = int(input(\"chieu rong: \"))\n",
    "b = int(input(\"chieu dai: \"))\n",
    "\n",
    "s_hcn = a*b\n",
    "s_rmain = round(a*b - ((a/2)**2)*3.14, 2)\n",
    "\n",
    "print(s_rmain)\n"
   ]
  },
  {
   "cell_type": "code",
   "execution_count": 3,
   "id": "a81c00f9",
   "metadata": {},
   "outputs": [
    {
     "name": "stdout",
     "output_type": "stream",
     "text": [
      "Ký tự viết thường\n"
     ]
    }
   ],
   "source": [
    "while True:\n",
    "    char = input(\"Nhập một ký tự: \")\n",
    "\n",
    "    if len(char) != 1:\n",
    "        print(\"Bạn chỉ được nhập đúng 1 ký tự!\")\n",
    "        continue\n",
    "\n",
    "    if char.isdigit():   # kiểm tra có phải số không\n",
    "        print(\"Bạn không được nhập số nguyên!\")\n",
    "        continue\n",
    "\n",
    "    if char.isupper():\n",
    "        print(\"Ký tự viết hoa\")\n",
    "    elif char.islower():\n",
    "        print(\"Ký tự viết thường\")\n",
    "    else:\n",
    "        print(\"Không phải chữ cái\")\n",
    "    break\n"
   ]
  },
  {
   "cell_type": "code",
   "execution_count": 4,
   "id": "57295601",
   "metadata": {},
   "outputs": [
    {
     "name": "stdout",
     "output_type": "stream",
     "text": [
      "s la mot ki tu alphabet\n"
     ]
    }
   ],
   "source": [
    "a = input(\"Enter a character: \")\n",
    "if a.isalpha():\n",
    "    print(f\"{a} la mot ki tu alphabet\")\n",
    "\n",
    "else:\n",
    "    print(f\"{a} ko phai la mot ki tu alphabet\")\n"
   ]
  },
  {
   "cell_type": "code",
   "execution_count": 6,
   "id": "78929631",
   "metadata": {},
   "outputs": [
    {
     "name": "stdout",
     "output_type": "stream",
     "text": [
      "Chi duoc nhap 1 ki tu viet hoa\n"
     ]
    }
   ],
   "source": [
    "c = input(\"Nhap mot ki tu viet hoa bat ki: \")\n",
    "\n",
    "if c.isalpha() and len(c) == 1 and c.isupper():\n",
    "    if c == \"A\":\n",
    "        print(\"z\")\n",
    "    else:\n",
    "        c.lower()\n",
    "        print(chr(ord(c) - 1))\n",
    "else:\n",
    "    print(\"Chi duoc nhap 1 ki tu viet hoa\")\n"
   ]
  },
  {
   "cell_type": "code",
   "execution_count": 2,
   "id": "bf89bcff",
   "metadata": {},
   "outputs": [
    {
     "name": "stdout",
     "output_type": "stream",
     "text": [
      "Diện tích của tam giác là: 17.32\n"
     ]
    }
   ],
   "source": [
    "a, b, c = map(float, input(\"Enter 3 numbers: \").split())\n",
    "\n",
    "\n",
    "if a + b > c and a + c > b and b + c > a:\n",
    "    p = (a + b + c) / 2\n",
    "    s = round((p * (p - a) * (p - b) * (p - c)) ** 0.5, 2)\n",
    "    print(\"Diện tích của tam giác là:\", s)\n",
    "else:\n",
    "    print(\"Ba cạnh không tạo thành tam giác\")\n"
   ]
  },
  {
   "cell_type": "code",
   "execution_count": 8,
   "id": "d35276b3",
   "metadata": {},
   "outputs": [
    {
     "name": "stdout",
     "output_type": "stream",
     "text": [
      "Vui long nhap lai\n"
     ]
    }
   ],
   "source": [
    "string = input(\"Nhap mot chuoi ki tu co do dai lon hon hoac bang 20: \")\n",
    "\n",
    "if len(string) >= 20 and string.isalpha():\n",
    "    print(f\"Ki tu thu 5 va thu 9 la: {string[6]}, {string[10]}\")\n",
    "else:\n",
    "    print(\"Vui long nhap lai\")\n"
   ]
  },
  {
   "cell_type": "code",
   "execution_count": 2,
   "id": "faa548ce",
   "metadata": {},
   "outputs": [
    {
     "name": "stdout",
     "output_type": "stream",
     "text": [
      "\n",
      "HÓA ĐƠN TIỀN ĐIỆN\n",
      "\n",
      "Chủ hộ: Son\n",
      "Chỉ số tháng trước: 300 kWh\n",
      "Chỉ số tháng này: 400 kWh\n",
      "TỔNG TIỀN PHẢI TRẢ: 217836 đồng\n"
     ]
    }
   ],
   "source": [
    "\n",
    "ho_ten = input(\"Nhập họ tên chủ hộ: \")\n",
    "chi_so_truoc = int(input(\"Nhập chỉ số điện kế tháng trước: \"))\n",
    "chi_so_hien_tai = int(input(\"Nhập chỉ số điện kế tháng này: \"))\n",
    "\n",
    "\n",
    "so_kWh = chi_so_hien_tai - chi_so_truoc\n",
    "\n",
    "if so_kWh < 0:\n",
    "    print(\"Chỉ số điện không hợp lệ! Tháng này phải lớn hơn hoặc bằng tháng trước.\")\n",
    "else:\n",
    "\n",
    "    tien_dien = 0\n",
    "    kWh_con_lai = so_kWh\n",
    "\n",
    "\n",
    "    if kWh_con_lai > 400:\n",
    "        tien_dien += (kWh_con_lai - 400) * 3460\n",
    "        kWh_con_lai = 400\n",
    "\n",
    "\n",
    "    if kWh_con_lai > 300:\n",
    "        tien_dien += (kWh_con_lai - 300) * 3350\n",
    "        kWh_con_lai = 300\n",
    "\n",
    "   \n",
    "    if kWh_con_lai > 200:\n",
    "        tien_dien += (kWh_con_lai - 200) * 2998\n",
    "        kWh_con_lai = 200\n",
    "\n",
    "\n",
    "    if kWh_con_lai > 100:\n",
    "        tien_dien += (kWh_con_lai - 100) * 2380\n",
    "        kWh_con_lai = 100\n",
    "\n",
    "\n",
    "    if kWh_con_lai > 50:\n",
    "        tien_dien += (kWh_con_lai - 50) * 2050\n",
    "        kWh_con_lai = 50\n",
    "\n",
    "    tien_dien += kWh_con_lai * 1984\n",
    "\n",
    "\n",
    "    tien_vat = int(tien_dien * 0.08)\n",
    "\n",
    "    tong_tien = tien_dien + tien_vat\n",
    "\n",
    "\n",
    "\n",
    "    print(\"\\nHÓA ĐƠN TIỀN ĐIỆN\\n\")\n",
    "\n",
    "    print(f\"Chủ hộ: {ho_ten}\")\n",
    "    print(f\"Chỉ số tháng trước: {chi_so_truoc} kWh\")\n",
    "    print(f\"Chỉ số tháng này: {chi_so_hien_tai} kWh\")\n",
    "\n",
    "    print(f\"TỔNG TIỀN PHẢI TRẢ: {tong_tien} đồng\")\n"
   ]
  },
  {
   "cell_type": "code",
   "execution_count": null,
   "id": "ce11011b",
   "metadata": {},
   "outputs": [],
   "source": [
    "# Nhập số từ người dùng\n",
    "so = int(input(\"Nhập một số nguyên từ 0 đến 9: \"))\n",
    "\n",
    "# Sử dụng match...case để chuyển đổi\n",
    "match so:\n",
    "    case 0:\n",
    "        chu_so = \"Không\"\n",
    "    case 1:\n",
    "        chu_so = \"Một\"\n",
    "    case 2:\n",
    "        chu_so = \"Hai\"\n",
    "    case 3:\n",
    "        chu_so = \"Ba\"\n",
    "    case 4:\n",
    "        chu_so = \"Bốn\"\n",
    "    case 5:\n",
    "        chu_so = \"Năm\"\n",
    "    case 6:\n",
    "        chu_so = \"Sáu\"\n",
    "    case 7:\n",
    "        chu_so = \"Bảy\"\n",
    "    case 8:\n",
    "        chu_so = \"Tám\"\n",
    "    case 9:\n",
    "        chu_so = \"Chín\"\n",
    "    case _:\n",
    "        chu_so = \"Số không hợp lệ! Vui lòng nhập số từ 0 đến 9\"\n",
    "\n",
    "# In kết quả\n",
    "print(f\"Số {so} -> \\\"{chu_so}\\\"\")\n"
   ]
  }
 ],
 "metadata": {
  "kernelspec": {
   "display_name": "Python 3",
   "language": "python",
   "name": "python3"
  },
  "language_info": {
   "codemirror_mode": {
    "name": "ipython",
    "version": 3
   },
   "file_extension": ".py",
   "mimetype": "text/x-python",
   "name": "python",
   "nbconvert_exporter": "python",
   "pygments_lexer": "ipython3",
   "version": "3.13.7"
  }
 },
 "nbformat": 4,
 "nbformat_minor": 5
}
