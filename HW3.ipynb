{
 "cells": [
  {
   "cell_type": "code",
   "execution_count": 5,
   "id": "ca57e5fb",
   "metadata": {},
   "outputs": [
    {
     "name": "stdout",
     "output_type": "stream",
     "text": [
      "99 98 97 96 95 94 93 92 91 90 89 88 87 86 85 84 83 82 81 80 79 78 77 76 75 74 73 72 71 70 69 68 67 66 65 64 63 62 61 60 59 58 57 56 55 54 53 52 51 50 49 48 47 46 45 44 43 42 41 40 39 38 37 36 35 34 33 32 31 30 29 28 27 26 25 24 23 22 21 20 19 18 17 16 15 14 13 12 11 10 9 8 7 6 5 4 3 2 1 "
     ]
    }
   ],
   "source": [
    "n = 100\n",
    "while n > 1:\n",
    "    n = n - 1\n",
    "    print(n, end = ' ')\n"
   ]
  },
  {
   "cell_type": "code",
   "execution_count": 4,
   "id": "7514f8a4",
   "metadata": {},
   "outputs": [
    {
     "name": "stdout",
     "output_type": "stream",
     "text": [
      "6, 12, 18, 24, 30, 36, 42, 48, 54, 60, 66, 72, 78, 84, 90, 96, "
     ]
    }
   ],
   "source": [
    "for i in range(1, 100):\n",
    "    if i % 6 == 0:\n",
    "        print(i, end=', ')\n"
   ]
  },
  {
   "cell_type": "code",
   "execution_count": 6,
   "id": "deb26f71",
   "metadata": {},
   "outputs": [
    {
     "name": "stdout",
     "output_type": "stream",
     "text": [
      "5 x 1 = 5\n",
      "5 x 2 = 10\n",
      "5 x 3 = 15\n",
      "5 x 4 = 20\n",
      "5 x 5 = 25\n",
      "5 x 6 = 30\n",
      "5 x 7 = 35\n",
      "5 x 8 = 40\n",
      "5 x 9 = 45\n",
      "5 x 10 = 50\n"
     ]
    }
   ],
   "source": [
    "# Nhập số nguyên dương\n",
    "while True:\n",
    "    try:\n",
    "        a = int(input(\"Nhập số nguyên dương a: \"))\n",
    "        if a > 0:\n",
    "            break\n",
    "        else:\n",
    "            print(\"Phải nhập số nguyên dương!\")\n",
    "    except ValueError:\n",
    "        print(\"Sai định dạng, hãy nhập số nguyên dương!\")\n",
    "\n",
    "# In bảng cửu chương\n",
    "for i in range(1, 11):\n",
    "    print(f\"{a} x {i} = {a * i}\")\n"
   ]
  },
  {
   "cell_type": "code",
   "execution_count": 10,
   "id": "677cbaa5",
   "metadata": {},
   "outputs": [
    {
     "name": "stdout",
     "output_type": "stream",
     "text": [
      "   *\n",
      "  * *\n",
      " *   *\n",
      "*******\n"
     ]
    }
   ],
   "source": [
    "\n",
    "while True:\n",
    "    try:\n",
    "        h = int(input(\"Nhap vao chieu cao cua tam giac can: \"))\n",
    "        if h > 0:\n",
    "            break\n",
    "        else:\n",
    "            print(\"Phải nhập số nguyên dương!\")\n",
    "    except ValueError:\n",
    "        print(\"Sai định dạng, hãy nhập số nguyên dương!\")\n",
    "\n",
    "\n",
    "for i in range(1, h + 1):\n",
    "    if i == 1:\n",
    "        # hàng trên cùng, chỉ 1 dấu *\n",
    "        print(' ' * (h - i) + '*')\n",
    "    elif i == h:\n",
    "        # hàng cuối, in đủ số dấu * để tạo đáy\n",
    "        print('*' * (2 * h - 1))\n",
    "    else:\n",
    "        # các hàng giữa, in * ở 2 cạnh, giữa là khoảng trống\n",
    "        print(' ' * (h - i) + '*' + ' ' * (2 * i - 3) + '*')\n"
   ]
  },
  {
   "cell_type": "code",
   "execution_count": 7,
   "id": "62593930",
   "metadata": {},
   "outputs": [
    {
     "name": "stdout",
     "output_type": "stream",
     "text": [
      "Tổng csc là: 15\n"
     ]
    }
   ],
   "source": [
    "# Nhập số nguyên dương\n",
    "while True:\n",
    "    try:\n",
    "        n = int(input(\"Nhập số nguyên dương n: \"))\n",
    "        if n > 0:\n",
    "            break\n",
    "        else:\n",
    "            print(\"Phải nhập số nguyên dương!\")\n",
    "    except ValueError:\n",
    "        print(\"Sai định dạng, hãy nhập số nguyên dương!\")\n",
    "\n",
    "# Tính tổng\n",
    "S = 0\n",
    "for i in range(1, n + 1):\n",
    "    S += i  # cộng dồn từng số vào S\n",
    "\n",
    "print(f\"Tổng csc là: {S}\")\n"
   ]
  },
  {
   "cell_type": "code",
   "execution_count": 11,
   "id": "c4ff59e1",
   "metadata": {},
   "outputs": [
    {
     "name": "stdout",
     "output_type": "stream",
     "text": [
      "Các ước dương của 4 là: 1 2 4 "
     ]
    }
   ],
   "source": [
    "# Nhập số nguyên dương\n",
    "while True:\n",
    "    try:\n",
    "        a = int(input(\"Nhập số nguyên dương a: \"))\n",
    "        if a > 0:\n",
    "            break\n",
    "        else:\n",
    "            print(\"Phải nhập số nguyên dương!\")\n",
    "    except ValueError:\n",
    "        print(\"Sai định dạng, hãy nhập số nguyên dương!\")\n",
    "\n",
    "# In tất cả các ước dương\n",
    "print(f\"Các ước dương của {a} là:\", end=' ')\n",
    "for i in range(1, a + 1):\n",
    "    if a % i == 0:\n",
    "        print(i, end=' ')\n"
   ]
  },
  {
   "cell_type": "code",
   "execution_count": 12,
   "id": "a6759e4e",
   "metadata": {},
   "outputs": [
    {
     "name": "stdout",
     "output_type": "stream",
     "text": [
      "Số ước dương của 6 là: 4\n"
     ]
    }
   ],
   "source": [
    "# Nhập số nguyên dương\n",
    "while True:\n",
    "    try:\n",
    "        a = int(input(\"Nhập số nguyên dương a: \"))\n",
    "        if a > 0:\n",
    "            break\n",
    "        else:\n",
    "            print(\"Phải nhập số nguyên dương!\")\n",
    "    except ValueError:\n",
    "        print(\"Sai định dạng, hãy nhập số nguyên dương!\")\n",
    "\n",
    "# Đếm số ước dương\n",
    "count = 0\n",
    "for i in range(1, a + 1):\n",
    "    if a % i == 0:\n",
    "        count += 1\n",
    "\n",
    "print(f\"Số ước dương của {a} là: {count}\")\n"
   ]
  },
  {
   "cell_type": "code",
   "execution_count": null,
   "id": "fe319011",
   "metadata": {},
   "outputs": [
    {
     "name": "stdout",
     "output_type": "stream",
     "text": [
      "Các ước dương chung của 5 và 8 là: 1 "
     ]
    }
   ],
   "source": [
    "# Nhập số nguyên dương a và b\n",
    "while True:\n",
    "    try:\n",
    "        a = int(input(\"Nhập số nguyên dương a: \"))\n",
    "        b = int(input(\"Nhập số nguyên dương b: \"))\n",
    "        if a > 0 and b > 0:\n",
    "            break\n",
    "        else:\n",
    "            print(\"Cả a và b phải là số nguyên dương!\")\n",
    "    except ValueError:\n",
    "        print(\"Sai định dạng, hãy nhập số nguyên dương!\")\n",
    "\n",
    "\n",
    "print(f\"Các ước dương chung của {a} và {b} là:\", end=' ')\n",
    "for i in range(1, min(a, b) + 1):  \n",
    "    if a % i == 0 and b % i == 0:\n",
    "        print(i, end=' ')\n"
   ]
  },
  {
   "cell_type": "code",
   "execution_count": 14,
   "id": "431b039e",
   "metadata": {},
   "outputs": [
    {
     "name": "stdout",
     "output_type": "stream",
     "text": [
      "36 là số chính phương.\n"
     ]
    }
   ],
   "source": [
    "import math  \n",
    "\n",
    "while True:\n",
    "    try:\n",
    "        a = int(input(\"Nhập số nguyên dương a: \"))\n",
    "        if a > 0:\n",
    "            break\n",
    "        else:\n",
    "            print(\"Phải nhập số nguyên dương!\")\n",
    "    except ValueError:\n",
    "        print(\"Sai định dạng, hãy nhập số nguyên dương!\")\n",
    "\n",
    "# Kiểm tra số chính phương\n",
    "sqrt_a = math.isqrt(a)  # lấy căn bậc hai nguyên của a\n",
    "if sqrt_a * sqrt_a == a:\n",
    "    print(f\"{a} là số chính phương.\")\n",
    "else:\n",
    "    print(f\"{a} không phải là số chính phương.\")\n"
   ]
  },
  {
   "cell_type": "code",
   "execution_count": 15,
   "id": "7f9db500",
   "metadata": {},
   "outputs": [
    {
     "name": "stdout",
     "output_type": "stream",
     "text": [
      "89 không phải là số hoàn hảo.\n"
     ]
    }
   ],
   "source": [
    "\n",
    "while True:\n",
    "    try:\n",
    "        a = int(input(\"Nhập số nguyên dương a: \"))\n",
    "        if a > 0:\n",
    "            break\n",
    "        else:\n",
    "            print(\"Phải nhập số nguyên dương!\")\n",
    "    except ValueError:\n",
    "        print(\"Sai định dạng, hãy nhập số nguyên dương!\")\n",
    "\n",
    "\n",
    "tong_uoc = 0\n",
    "for i in range(1, a):\n",
    "    if a % i == 0:\n",
    "        tong_uoc += i\n",
    "\n",
    "\n",
    "if tong_uoc == a:\n",
    "    print(f\"{a} là số hoàn hảo.\")\n",
    "else:\n",
    "    print(f\"{a} không phải là số hoàn hảo.\")\n"
   ]
  },
  {
   "cell_type": "code",
   "execution_count": 16,
   "id": "256fede9",
   "metadata": {},
   "outputs": [
    {
     "name": "stdout",
     "output_type": "stream",
     "text": [
      "Phải nhập số nguyên dương!\n"
     ]
    }
   ],
   "source": [
    "while True:\n",
    "    try:\n",
    "        a = int(input(\"Nhập số nguyên dương a: \"))\n",
    "        if a > 0:\n",
    "            break\n",
    "        else:\n",
    "            print(\"Phải nhập số nguyên dương!\")\n",
    "    except ValueError:\n",
    "        print(\"Sai định dạng, hãy nhập số nguyên dương!\")"
   ]
  },
  {
   "cell_type": "code",
   "execution_count": null,
   "id": "5668cd71",
   "metadata": {},
   "outputs": [
    {
     "name": "stdout",
     "output_type": "stream",
     "text": [
      "Số k lớn nhất sao cho S(k) < 45 là: 8\n",
      "Tổng S(k) = 36\n"
     ]
    }
   ],
   "source": [
    "\n",
    "while True:\n",
    "    try:\n",
    "        n = int(input(\"Nhập số nguyên dương n: \"))\n",
    "        if n > 0:\n",
    "            break\n",
    "        else:\n",
    "            print(\"Phải nhập số nguyên dương!\")\n",
    "    except ValueError:\n",
    "        print(\"Sai định dạng, hãy nhập số nguyên dương!\")\n",
    "\n",
    "# Tìm k\n",
    "k = 0\n",
    "tong = 0\n",
    "while tong + (k + 1) < n: # dung truoc khi vuot\n",
    "    k += 1\n",
    "    tong += k\n",
    "\n",
    "print(f\"Số k lớn nhất sao cho S(k) < {n} là: {k}\")\n",
    "print(f\"Tổng S(k) = {tong}\")\n"
   ]
  },
  {
   "cell_type": "code",
   "execution_count": 2,
   "id": "49b4b218",
   "metadata": {},
   "outputs": [
    {
     "name": "stdout",
     "output_type": "stream",
     "text": [
      "Số nguyên dương n nhỏ nhất sao cho 1 + 1/2 + ... + 1/n > 4.0 là: 31\n",
      "Tổng S(n) = 4.03\n"
     ]
    }
   ],
   "source": [
    "# Nhập số nguyên dương A\n",
    "while True:\n",
    "    try:\n",
    "        A = float(input(\"Nhập số dương A: \"))\n",
    "        if A > 0:\n",
    "            break\n",
    "        else:\n",
    "            print(\"Phải nhập số dương!\")\n",
    "    except ValueError:\n",
    "        print(\"Sai định dạng, hãy nhập số dương!\")\n",
    "\n",
    "# Tìm n\n",
    "n = 0\n",
    "tong = 0.0\n",
    "while tong <= A: # dung sau khi vuot\n",
    "    n += 1\n",
    "    tong += 1 / n\n",
    "\n",
    "print(f\"Số nguyên dương n nhỏ nhất sao cho 1 + 1/2 + ... + 1/n > {A} là: {n}\")\n",
    "print(f\"Tổng S(n) = {tong:.2f}\")\n"
   ]
  },
  {
   "cell_type": "code",
   "execution_count": 3,
   "id": "795c8e1d",
   "metadata": {},
   "outputs": [
    {
     "name": "stdout",
     "output_type": "stream",
     "text": [
      "Số lớn nhất: 6\n",
      "Số nhỏ nhất: 4\n"
     ]
    }
   ],
   "source": [
    "max_so = None\n",
    "min_so = None\n",
    "\n",
    "while True:\n",
    "    try:\n",
    "        n = int(input(\"Nhập vào một số nguyên (-1 để kết thúc): \"))\n",
    "        if n == -1:\n",
    "            break\n",
    "\n",
    "        # Cập nhật số lớn nhất\n",
    "        if max_so is None or n > max_so:\n",
    "            max_so = n\n",
    "        # Cập nhật số nhỏ nhất\n",
    "        if min_so is None or n < min_so:\n",
    "            min_so = n\n",
    "\n",
    "    except ValueError:\n",
    "        print(\"Nhập sai! Hãy nhập số nguyên.\")\n",
    "\n",
    "# In kết quả\n",
    "if max_so is not None and min_so is not None:\n",
    "    print(f\"Số lớn nhất: {max_so}\")\n",
    "    print(f\"Số nhỏ nhất: {min_so}\")\n",
    "else:\n",
    "    print(\"Bạn chưa nhập số nào.\")\n"
   ]
  },
  {
   "cell_type": "code",
   "execution_count": null,
   "id": "c2ce19cf",
   "metadata": {},
   "outputs": [
    {
     "name": "stdout",
     "output_type": "stream",
     "text": [
      "Số chữ số của 4 là: 1\n"
     ]
    }
   ],
   "source": [
    "\n",
    "while True:\n",
    "    try:\n",
    "        n = int(input(\"Nhập số nguyên dương n: \"))\n",
    "        if n > 0:\n",
    "            break\n",
    "        else:\n",
    "            print(\"Phải nhập số nguyên dương!\")\n",
    "    except ValueError:\n",
    "        print(\"Sai định dạng, hãy nhập số nguyên dương!\")\n",
    "        \n",
    "count = len(str(n))\n",
    "print(f\"Số chữ số của {n} là: {count}\")\n",
    "\n",
    "# n = int(input(\"Nhập số nguyên dương n: \"))\n",
    "\n",
    "# count = 1\n",
    "# x = 10\n",
    "# while n >= x:\n",
    "#     count += 1\n",
    "#     x *= 10\n",
    "\n",
    "# print(f\"Số chữ số của {n} là: {count}\")\n",
    "\n"
   ]
  },
  {
   "cell_type": "code",
   "execution_count": 5,
   "id": "76fd9be9",
   "metadata": {},
   "outputs": [
    {
     "name": "stdout",
     "output_type": "stream",
     "text": [
      "Số chữ số chẵn: 1\n",
      "Số chữ số lẻ: 1\n"
     ]
    }
   ],
   "source": [
    "while True:\n",
    "    try:\n",
    "        n = int(input(\"Nhập số nguyên dương n: \"))\n",
    "        if n > 0:\n",
    "            break\n",
    "        else:\n",
    "            print(\"Phải nhập số nguyên dương!\")\n",
    "    except ValueError:\n",
    "        print(\"Sai định dạng, hãy nhập số nguyên dương!\")\n",
    "\n",
    "le = 0\n",
    "chan = 0\n",
    "n_str = str(n)  # chuyển n thành chuỗi\n",
    "\n",
    "for i in range(len(n_str)):\n",
    "    if int(n_str[i]) % 2 == 0:\n",
    "        chan += 1\n",
    "    else:\n",
    "        le += 1\n",
    "\n",
    "print(f\"Số chữ số chẵn: {chan}\")\n",
    "print(f\"Số chữ số lẻ: {le}\")\n"
   ]
  },
  {
   "cell_type": "code",
   "execution_count": 6,
   "id": "33a65d86",
   "metadata": {},
   "outputs": [
    {
     "name": "stdout",
     "output_type": "stream",
     "text": [
      "Tổng các chữ số của 56 là: 11\n"
     ]
    }
   ],
   "source": [
    "\n",
    "while True:\n",
    "    try:\n",
    "        n = int(input(\"Nhập số nguyên dương n: \"))\n",
    "        if n > 0:\n",
    "            break\n",
    "        else:\n",
    "            print(\"Phải nhập số nguyên dương!\")\n",
    "    except ValueError:\n",
    "        print(\"Sai định dạng, hãy nhập số nguyên dương!\")\n",
    "\n",
    "# Tính tổng các chữ số bằng cách chuyển sang string\n",
    "tong = 0\n",
    "for c in str(n):      \n",
    "    tong += int(c)    \n",
    "\n",
    "print(f\"Tổng các chữ số của {n} là: {tong}\")\n",
    "\n",
    "# # Tính tổng các chữ số\n",
    "# tong = 0\n",
    "# temp = n\n",
    "# while temp > 0:\n",
    "#     tong += temp % 10  # lấy chữ số cuối\n",
    "#     temp //= 10        # bỏ chữ số cuối\n"
   ]
  },
  {
   "cell_type": "code",
   "execution_count": 7,
   "id": "6d028379",
   "metadata": {},
   "outputs": [
    {
     "name": "stdout",
     "output_type": "stream",
     "text": [
      "9 là số dạng 3^k.\n"
     ]
    }
   ],
   "source": [
    "\n",
    "while True:\n",
    "    try:\n",
    "        n = int(input(\"Nhập số nguyên dương n: \"))\n",
    "        if n > 0:\n",
    "            break\n",
    "        else:\n",
    "            print(\"Phải nhập số nguyên dương!\")\n",
    "    except ValueError:\n",
    "        print(\"Sai định dạng, hãy nhập số nguyên dương!\")\n",
    "\n",
    "# Kiểm tra dạng 3^k\n",
    "temp = n\n",
    "while temp % 3 == 0:\n",
    "    temp //= 3\n",
    "\n",
    "if temp == 1:\n",
    "    print(f\"{n} là số dạng 3^k.\")\n",
    "else:\n",
    "    print(f\"{n} không phải là số dạng 3^k.\")\n"
   ]
  },
  {
   "cell_type": "code",
   "execution_count": null,
   "id": "254768e2",
   "metadata": {},
   "outputs": [],
   "source": [
    "\n",
    "while True:\n",
    "    try:\n",
    "        a = int(input(\"Nhập số nguyên dương A: \"))\n",
    "        if a > 0:\n",
    "            break\n",
    "        else:\n",
    "            print(\"Phải nhập số nguyên dương!\")\n",
    "    except ValueError:\n",
    "        print(\"Sai định dạng, hãy nhập số nguyên dương!\")\n",
    "\n",
    "# Khởi tạo hai số Fibonacci đầu tiên\n",
    "fib1 = 1\n",
    "fib2 = 1\n",
    "max_fib = 1  # lưu số Fibonacci lớn nhất <= A\n",
    "\n",
    "# Tính các số Fibonacci tiếp theo cho đến khi vượt A\n",
    "while True:\n",
    "    fib_next = fib1 + fib2\n",
    "    if fib_next > a:\n",
    "        break\n",
    "    max_fib = fib_next  # cập nhật số Fibonacci lớn nhất\n",
    "    fib1, fib2 = fib2, fib_next  # cập nhật hai số gần nhất\n",
    "\n",
    "print(f\"Số Fibonacci lớn nhất không vượt quá {A} là: {max_fib}\")\n"
   ]
  },
  {
   "cell_type": "code",
   "execution_count": 8,
   "id": "2e9e2f33",
   "metadata": {},
   "outputs": [
    {
     "name": "stdout",
     "output_type": "stream",
     "text": [
      "Số chữ số nguyên tố trong 2456 là: 2\n"
     ]
    }
   ],
   "source": [
    "\n",
    "while True:\n",
    "    try:\n",
    "        n = int(input(\"Nhập số nguyên dương n: \"))\n",
    "        if n > 0:\n",
    "            break\n",
    "        else:\n",
    "            print(\"Phải nhập số nguyên dương!\")\n",
    "    except ValueError:\n",
    "        print(\"Sai định dạng, hãy nhập số nguyên dương!\")\n",
    "\n",
    "def is_prime_digit(d):\n",
    "    return d in [2, 3, 5, 7]\n",
    "\n",
    "\n",
    "count = 0\n",
    "for c in str(n):\n",
    "    if is_prime_digit(int(c)):\n",
    "        count += 1\n",
    "\n",
    "print(f\"Số chữ số nguyên tố trong {n} là: {count}\")\n",
    "\n"
   ]
  },
  {
   "cell_type": "code",
   "execution_count": null,
   "id": "bcf750bd",
   "metadata": {},
   "outputs": [],
   "source": []
  }
 ],
 "metadata": {
  "kernelspec": {
   "display_name": "Python 3",
   "language": "python",
   "name": "python3"
  },
  "language_info": {
   "codemirror_mode": {
    "name": "ipython",
    "version": 3
   },
   "file_extension": ".py",
   "mimetype": "text/x-python",
   "name": "python",
   "nbconvert_exporter": "python",
   "pygments_lexer": "ipython3",
   "version": "3.13.7"
  }
 },
 "nbformat": 4,
 "nbformat_minor": 5
}
