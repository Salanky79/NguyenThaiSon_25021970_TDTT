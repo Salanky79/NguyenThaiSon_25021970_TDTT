{
 "cells": [
  {
   "cell_type": "code",
   "execution_count": null,
   "id": "fe136b93",
   "metadata": {},
   "outputs": [
    {
     "name": "stdout",
     "output_type": "stream",
     "text": [
      "500500\n"
     ]
    }
   ],
   "source": [
    "total= 0\n",
    "for i in range(1,1000 + 1):\n",
    "    sum += i\n",
    "print(total)"
   ]
  },
  {
   "cell_type": "code",
   "execution_count": 2,
   "id": "43a05bf4",
   "metadata": {},
   "outputs": [
    {
     "name": "stdout",
     "output_type": "stream",
     "text": [
      "Nhập vào một số dương!\n",
      "Nhập vào một số nguyên!\n",
      "3\n"
     ]
    }
   ],
   "source": [
    "while True:\n",
    "    try:\n",
    "        a = int(input(\"Nhập vào một số nguyên dương: \"))\n",
    "        if a > 0:\n",
    "            print(a)\n",
    "            break\n",
    "        else:\n",
    "            print(\"Nhập vào một số dương!\")\n",
    "\n",
    "    except ValueError:\n",
    "        print(\"Nhập vào một số nguyên!\")"
   ]
  },
  {
   "cell_type": "code",
   "execution_count": 6,
   "id": "4cdbf81a",
   "metadata": {},
   "outputs": [
    {
     "name": "stdout",
     "output_type": "stream",
     "text": [
      "120\n"
     ]
    }
   ],
   "source": [
    "def select_in_range(prompt, min_value, max_value):\n",
    "    while True:\n",
    "        choice = input(prompt)\n",
    "        if not choice.isdigit():\n",
    "            print(\"Vui lòng nhập một số nguyên!\")\n",
    "            continue\n",
    "\n",
    "        choice = int(choice)\n",
    "        if choice <= min_value or choice >= max_value:\n",
    "            print(f\"Vui lòng nhập số trong khoảng từ {min_value} đến {max_value}.\")\n",
    "            continue\n",
    "\n",
    "        return choice\n",
    "    \n",
    "total = 1\n",
    "\n",
    "n = select_in_range(\"Nhap mot so nguyen trong khoang (0, 100): \", 0, 100)\n",
    "for i in range(1, n + 1):\n",
    "    total *= i\n",
    "print(total)"
   ]
  },
  {
   "cell_type": "code",
   "execution_count": 2,
   "id": "4a259fac",
   "metadata": {},
   "outputs": [
    {
     "name": "stdout",
     "output_type": "stream",
     "text": [
      "3\n",
      "Bạn phải nhập đúng 3 số! Hãy thử lại.\n",
      "\n",
      "I've found the meaning of life!\n"
     ]
    }
   ],
   "source": [
    "while True:\n",
    "    try:\n",
    "        n = int(input(\"Nhập vào một số nguyên dương: \"))\n",
    "        if n > 0:\n",
    "            print(n)\n",
    "            break\n",
    "        else:\n",
    "            print(\"Nhập vào một số dương!\")\n",
    "\n",
    "    except ValueError:\n",
    "        print(\"Nhập vào một số nguyên!\")\n",
    "\n",
    "while True:\n",
    "    numbers = list(map(int, input(f\"Nhập {n} số nguyên, cách nhau bằng dấu cách: \").split()))\n",
    "    if len(numbers) == n:\n",
    "        break\n",
    "    else:\n",
    "        print(f\"Bạn phải nhập đúng {n} số! Hãy thử lại.\\n\")\n",
    "\n",
    "if 42 in numbers:\n",
    "    print(\"I've found the meaning of life!\")\n",
    "else:\n",
    "    print(\"It's a joke!\")"
   ]
  },
  {
   "cell_type": "code",
   "execution_count": 2,
   "id": "9d3dc2e6",
   "metadata": {},
   "outputs": [
    {
     "name": "stdout",
     "output_type": "stream",
     "text": [
      "So chu so la: 3\n"
     ]
    }
   ],
   "source": [
    "while True:\n",
    "    try:\n",
    "        n = int(input(\"Nhập vào một số nguyên dương: \"))\n",
    "        break\n",
    "\n",
    "    except ValueError:\n",
    "        print(\"Nhập vào một số nguyên!\")\n",
    "\n",
    "count = 0\n",
    "if n < 0:\n",
    "    n = - n\n",
    "\n",
    "while n > 0:\n",
    "    n //= 10\n",
    "    count += 1\n",
    "\n",
    "print(f\"So chu so la: {count}\")\n",
    "\n"
   ]
  },
  {
   "cell_type": "code",
   "execution_count": null,
   "id": "9b6939b1",
   "metadata": {},
   "outputs": [
    {
     "name": "stdout",
     "output_type": "stream",
     "text": [
      "Nhap vao 2 so nguyen\n",
      "Nhap vao 2 so nguyen\n",
      "Tổng các số nguyên tố trong đoạn [4, 8] là: 12\n"
     ]
    }
   ],
   "source": [
    "def is_prime(n):\n",
    "    if n < 2:\n",
    "        return False\n",
    "    for i in range(2, int(n**0.5) + 1):\n",
    "        if n % i == 0:\n",
    "            return False\n",
    "    return True\n",
    "\n",
    "\n",
    "while True:\n",
    "    try:\n",
    "        a, b = map(int, input(\"Nhap vao 2 so nguyen duong (a <= b): \").split())\n",
    "        if a <= 0 or b <= 0:\n",
    "            print(\"Cả hai số phải dương!\")\n",
    "            continue\n",
    "        if a > b:\n",
    "            print(\"a phải <= b!\")\n",
    "            continue\n",
    "        break\n",
    "    except ValueError:\n",
    "        print(\"Nhap vao 2 so nguyen\")\n",
    "\n",
    "tong = 0\n",
    "prime = []\n",
    "for i in range(a, b + 1):\n",
    "    if is_prime(i):\n",
    "        prime.append(i)\n",
    "        tong += i\n",
    "print(prime)\n",
    "print(f\"Tổng các số nguyên tố trong đoạn [{a}, {b}] là: {tong}\")"
   ]
  },
  {
   "cell_type": "code",
   "execution_count": 9,
   "id": "6a00ad4f",
   "metadata": {},
   "outputs": [
    {
     "name": "stdout",
     "output_type": "stream",
     "text": [
      "So nguyen phai >= 2\n",
      "Ước nguyên tố lớn nhất của 2 là: 2\n"
     ]
    }
   ],
   "source": [
    "while True:\n",
    "    try:\n",
    "        x = int(input(\"Nhập vào một số nguyên dương (n >= 2): \"))\n",
    "        if x < 2:\n",
    "            print(\"So nguyen phai >= 2\")\n",
    "        else:\n",
    "            break\n",
    "\n",
    "    except ValueError:\n",
    "        print(\"Nhập vào một số nguyên!\")\n",
    "\n",
    "# --- Hàm kiểm tra số nguyên tố ---\n",
    "def is_prime(x):\n",
    "    for i in range(2, int(x**0.5) + 1):\n",
    "        if x % i == 0:\n",
    "            return False\n",
    "    return True\n",
    "\n",
    "def is_divisor(x):\n",
    "    divisior = []\n",
    "    for i in range(1, x + 1):\n",
    "        if x % i == 0:\n",
    "            divisior.append(i)\n",
    "    return divisior\n",
    "\n",
    "numbers = is_divisor(x)\n",
    "\n",
    "max_prime = 0\n",
    "for number in numbers:\n",
    "    if is_prime(number) and number > max_prime:\n",
    "        max_prime = number\n",
    "\n",
    "\n",
    "if max_prime == 0:\n",
    "    print(f\"{x} không có ước nào là số nguyên tố.\")\n",
    "else:\n",
    "    print(f\"Ước nguyên tố lớn nhất của {x} là: {max_prime}\")"
   ]
  },
  {
   "cell_type": "code",
   "execution_count": null,
   "id": "479f04dc",
   "metadata": {},
   "outputs": [
    {
     "name": "stdout",
     "output_type": "stream",
     "text": [
      "Số bước: 1\n",
      "Số đối xứng thu được: 77\n"
     ]
    }
   ],
   "source": [
    "while True:\n",
    "    try:\n",
    "        x = int(input(\"Nhập vào một số nguyên dương : \"))\n",
    "        if x <= 0:\n",
    "            print(\"Nhap vao so duong\")\n",
    "        else:\n",
    "            break\n",
    "\n",
    "    except ValueError:\n",
    "        print(\"Nhập vào một số nguyên!\")\n",
    "\n",
    "# --- Hàm đảo ngược số ---\n",
    "def reverse_number(n):\n",
    "    rev = 0\n",
    "    while n > 0:\n",
    "        rev = rev * 10 + (n % 10)\n",
    "        n //= 10\n",
    "    return rev\n",
    "\n",
    "# --- Hàm kiểm tra số đối xứng ---\n",
    "def is_palindrome(n):\n",
    "    return n == reverse_number(n)\n",
    "\n",
    "count = 0\n",
    "while not is_palindrome(x):\n",
    "    r = reverse_number(x)\n",
    "    x = x + r\n",
    "    count += 1\n",
    "\n",
    "print(f\"Số bước: {count}\")\n",
    "print(f\"Số đối xứng thu được: {x}\")"
   ]
  },
  {
   "cell_type": "code",
   "execution_count": 13,
   "id": "408b618e",
   "metadata": {},
   "outputs": [
    {
     "name": "stdout",
     "output_type": "stream",
     "text": [
      "1 4 9 16 25 36 49 64\n"
     ]
    }
   ],
   "source": [
    "while True:\n",
    "    try:\n",
    "        n = int(input(\"Nhập vào một số nguyên dương : \"))\n",
    "        if n <= 0:\n",
    "            print(\"Nhập vào số dương\")\n",
    "        else:\n",
    "            break\n",
    "    except ValueError:\n",
    "        print(\"Nhập vào một số nguyên!\")\n",
    "\n",
    "# Kiểm tra số chính phương\n",
    "def is_perfect_square(num):\n",
    "    root = int(num ** 0.5)\n",
    "    return root * root == num\n",
    "\n",
    "# Kiểm tra chữ số đôi một khác nhau\n",
    "# def has_unique_digits(num):\n",
    "#     num = str(num)\n",
    "#     return len(num) == len(set(num))\n",
    "# set dung de loai bo cac so giong nhau\n",
    "\n",
    "def has_unique_digits(num):\n",
    "    num = str(num)\n",
    "    for i in range(len(num)):\n",
    "        for j in range(i + 1, len(num)):\n",
    "            if num[i] == num[j]:\n",
    "                return False\n",
    "    return True\n",
    "\n",
    "# Tạo danh sách các số hợp lệ\n",
    "result = []\n",
    "for i in range(1, n + 1):\n",
    "    if is_perfect_square(i) and has_unique_digits(i):\n",
    "        result.append(i)\n",
    "\n",
    "# In kết quả\n",
    "if result:\n",
    "    print(*result)  # in cùng hàng, cách nhau dấu cách\n",
    "else:\n",
    "    print(\"no number\")\n"
   ]
  },
  {
   "cell_type": "code",
   "execution_count": 16,
   "id": "1232d849",
   "metadata": {},
   "outputs": [
    {
     "name": "stdout",
     "output_type": "stream",
     "text": [
      "27 112\n"
     ]
    }
   ],
   "source": [
    "# Hàm tính độ dài dãy Collatz của một số\n",
    "def collatz_length(x):\n",
    "    length = 1\n",
    "    while x != 1:\n",
    "        if x % 2 == 0:\n",
    "            x = x // 2\n",
    "        else:\n",
    "            x = 3 * x + 1\n",
    "        length += 1\n",
    "    return length\n",
    "\n",
    "# Nhập số nguyên dương n\n",
    "while True:\n",
    "    try:\n",
    "        n = int(input(\"Nhập số nguyên dương n: \"))\n",
    "        if n <= 0:\n",
    "            print(\"Phải nhập số nguyên dương!\")\n",
    "        else:\n",
    "            break\n",
    "    except ValueError:\n",
    "        print(\"Sai định dạng! Vui lòng nhập số nguyên dương.\")\n",
    "\n",
    "# Tìm số x có độ dài Collatz lớn nhất\n",
    "max_length = 0\n",
    "min_x = 1\n",
    "\n",
    "for i in range(1, n + 1):\n",
    "    length = collatz_length(i)\n",
    "    if length > max_length:\n",
    "        max_length = length\n",
    "        min_x = i\n",
    "    elif length == max_length and i < min_x:\n",
    "        min_x = i\n",
    "\n",
    "# In kết quả\n",
    "print(f\"{min_x} {max_length}\")\n"
   ]
  },
  {
   "cell_type": "code",
   "execution_count": 15,
   "id": "56c73a3f",
   "metadata": {},
   "outputs": [
    {
     "name": "stdout",
     "output_type": "stream",
     "text": [
      "Phải là số nguyên dương nhỏ hơn 10^6\n",
      "Số lượng ước số chẵn của 3405 là: 0\n"
     ]
    }
   ],
   "source": [
    "# Nhập số nguyên dương n < 10^6\n",
    "while True:\n",
    "    try:\n",
    "        n = int(input(\"Nhập số nguyên dương n (<10^6): \"))\n",
    "        if n <= 0 or n >= 10**6:\n",
    "            print(\"Phải là số nguyên dương nhỏ hơn 10^6\")\n",
    "        else:\n",
    "            break\n",
    "    except ValueError:\n",
    "        print(\"Sai định dạng, nhập số nguyên!\")\n",
    "\n",
    "# Đếm ước số chẵn\n",
    "count = 0\n",
    "for i in range(2, n + 1, 2):  # chỉ duyệt các số chẵn\n",
    "    if n % i == 0:\n",
    "        count += 1\n",
    "\n",
    "print(f\"Số lượng ước số chẵn của {n} là: {count}\")\n"
   ]
  },
  {
   "cell_type": "code",
   "execution_count": 14,
   "id": "e667b680",
   "metadata": {},
   "outputs": [
    {
     "name": "stdout",
     "output_type": "stream",
     "text": [
      "So tien rut duoc (ca goc va lai): 64572\n"
     ]
    }
   ],
   "source": [
    "# 12\n",
    "while True:\n",
    "    try:\n",
    "        n = float(input(\"Nhập vào khoan tien tiet kiem: \"))\n",
    "        month = int(input(\"Nhap vao so thang\"))\n",
    "        if n <= 0 or month <= 0:\n",
    "            print(\"phai la số dương\")\n",
    "        else:\n",
    "            break\n",
    "    except ValueError:\n",
    "        print(\"Sai dinh dang\")\n",
    "\n",
    "print(f\"So tien rut duoc (ca goc va lai): {int(n*((1 + 0.7/100)**month))}\")"
   ]
  },
  {
   "cell_type": "code",
   "execution_count": 17,
   "id": "c9d98768",
   "metadata": {},
   "outputs": [
    {
     "name": "stdout",
     "output_type": "stream",
     "text": [
      "True\n"
     ]
    }
   ],
   "source": [
    "# Hàm tính tổng các ước số (trừ chính nó)\n",
    "def sum_divisor(n):\n",
    "    total = 0\n",
    "    for i in range(1, n):\n",
    "        if n % i == 0:\n",
    "            total = total + i\n",
    "    return total\n",
    "\n",
    "\n",
    "\n",
    "# Nhập hai số nguyên dương từ bàn phím\n",
    "while True:\n",
    "    try:\n",
    "        a = int(input(\"Nhập số thứ nhất: \"))\n",
    "        b = int(input(\"Nhập số thứ hai: \"))\n",
    "        if a <= 0 or b <= 0:\n",
    "            print(\"Phải nhập số nguyên dương!\")\n",
    "        else:\n",
    "            break\n",
    "    except ValueError:\n",
    "        print(\"Sai định dạng! Nhập số nguyên dương.\")\n",
    "\n",
    "# Kiểm tra cặp số thân thiết\n",
    "if sum_divisor(a) == b and sum_divisor(b) == a:\n",
    "    print(\"True\")\n",
    "else:\n",
    "    print(\"False\")"
   ]
  },
  {
   "cell_type": "code",
   "execution_count": 18,
   "id": "22d2eaa5",
   "metadata": {},
   "outputs": [
    {
     "name": "stdout",
     "output_type": "stream",
     "text": [
      "Ước chung lớn nhất của 16 và 18 là: 2\n"
     ]
    }
   ],
   "source": [
    "# Nhập hai số nguyên dương\n",
    "while True:\n",
    "    try:\n",
    "        m = int(input(\"Nhập số nguyên dương m: \"))\n",
    "        n = int(input(\"Nhập số nguyên dương n: \"))\n",
    "        if m <= 0 or n <= 0:\n",
    "            print(\"Phải nhập số nguyên dương!\")\n",
    "        else:\n",
    "            break\n",
    "    except ValueError:\n",
    "        print(\"Sai định dạng! Nhập số nguyên dương.\")\n",
    "\n",
    "# Tìm ước chung lớn nhất bằng vòng lặp\n",
    "min_num = min(m, n)  # ước chung lớn nhất không thể lớn hơn số nhỏ nhất\n",
    "gcd = 1\n",
    "\n",
    "for i in range(min_num, 0, -1):  # duyệt từ min_num về 1\n",
    "    if m % i == 0 and n % i == 0:\n",
    "        gcd = i\n",
    "        break  # tìm thấy ước chung lớn nhất thì dừng\n",
    "\n",
    "print(f\"Ước chung lớn nhất của {m} và {n} là: {gcd}\")\n"
   ]
  },
  {
   "cell_type": "code",
   "execution_count": 19,
   "id": "e5775a9a",
   "metadata": {},
   "outputs": [
    {
     "name": "stdout",
     "output_type": "stream",
     "text": [
      "Invalid\n"
     ]
    }
   ],
   "source": [
    "while True:\n",
    "    try:\n",
    "        a = int(input(\"Nhập tong so con ga va con cho: \"))\n",
    "        b = int(input(\"Nhập tong so chan: \"))\n",
    "        if a <= 0 or b <= 0:\n",
    "            print(\"Phải nhập số nguyên dương!\")\n",
    "        else:\n",
    "            break\n",
    "    except ValueError:\n",
    "        print(\"Sai định dạng! Nhập số nguyên dương.\")\n",
    "\n",
    "\n",
    "y = (b - 2*a) / 2\n",
    "x = a - y\n",
    "\n",
    "if y.is_integer() and y >= 0 and x >= 0:\n",
    "    print(\"Valid\")\n",
    "else:\n",
    "    print(\"Invalid\")"
   ]
  },
  {
   "cell_type": "code",
   "execution_count": null,
   "id": "a2eb7290",
   "metadata": {},
   "outputs": [],
   "source": []
  }
 ],
 "metadata": {
  "kernelspec": {
   "display_name": "Python 3",
   "language": "python",
   "name": "python3"
  },
  "language_info": {
   "codemirror_mode": {
    "name": "ipython",
    "version": 3
   },
   "file_extension": ".py",
   "mimetype": "text/x-python",
   "name": "python",
   "nbconvert_exporter": "python",
   "pygments_lexer": "ipython3",
   "version": "3.13.7"
  }
 },
 "nbformat": 4,
 "nbformat_minor": 5
}
